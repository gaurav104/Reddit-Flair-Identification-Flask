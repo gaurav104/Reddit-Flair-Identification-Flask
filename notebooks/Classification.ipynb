{
 "cells": [
  {
   "cell_type": "code",
   "execution_count": 0,
   "metadata": {
    "colab": {},
    "colab_type": "code",
    "id": "008cl8swe7iP"
   },
   "outputs": [],
   "source": [
    "import pandas as pd\n",
    "import numpy as np\n",
    "from sklearn.model_selection import train_test_split\n",
    "from sklearn.feature_extraction.text import CountVectorizer\n",
    "from sklearn.feature_extraction.text import TfidfVectorizer\n",
    "from sklearn.ensemble import RandomForestClassifier\n",
    "from sklearn.linear_model import LogisticRegression\n",
    "from sklearn.svm import LinearSVC, SVC\n",
    "from sklearn.naive_bayes import MultinomialNB\n",
    "from sklearn.metrics import confusion_matrix\n",
    "from sklearn.feature_selection import chi2\n",
    "from sklearn.pipeline import Pipeline\n",
    "from joblib import dump\n",
    "from sklearn import metrics\n",
    "import seaborn as sns\n",
    "import matplotlib.pyplot as plt\n",
    "\n",
    "%matplotlib inline"
   ]
  },
  {
   "cell_type": "code",
   "execution_count": 0,
   "metadata": {
    "colab": {},
    "colab_type": "code",
    "id": "yh6BNHS9e7iZ"
   },
   "outputs": [],
   "source": [
    "data = pd.read_pickle(\"./data_cleaned_class.pkl\")"
   ]
  },
  {
   "cell_type": "code",
   "execution_count": 0,
   "metadata": {
    "colab": {},
    "colab_type": "code",
    "id": "jl2g-HmCe7ii",
    "outputId": "5ace22b2-4673-413e-ee77-f483880b1ade"
   },
   "outputs": [
    {
     "data": {
      "text/html": [
       "<div>\n",
       "<style scoped>\n",
       "    .dataframe tbody tr th:only-of-type {\n",
       "        vertical-align: middle;\n",
       "    }\n",
       "\n",
       "    .dataframe tbody tr th {\n",
       "        vertical-align: top;\n",
       "    }\n",
       "\n",
       "    .dataframe thead th {\n",
       "        text-align: right;\n",
       "    }\n",
       "</style>\n",
       "<table border=\"1\" class=\"dataframe\">\n",
       "  <thead>\n",
       "    <tr style=\"text-align: right;\">\n",
       "      <th></th>\n",
       "      <th>flair</th>\n",
       "      <th>title</th>\n",
       "      <th>flair_id</th>\n",
       "    </tr>\n",
       "  </thead>\n",
       "  <tbody>\n",
       "    <tr>\n",
       "      <th>0</th>\n",
       "      <td>Business/Finance</td>\n",
       "      <td>allow bank hold passport loan taker madras sug...</td>\n",
       "      <td>0</td>\n",
       "    </tr>\n",
       "    <tr>\n",
       "      <th>1</th>\n",
       "      <td>Policy/Economy</td>\n",
       "      <td>tamil nadu usher new year green note ban singl...</td>\n",
       "      <td>1</td>\n",
       "    </tr>\n",
       "    <tr>\n",
       "      <th>2</th>\n",
       "      <td>Policy/Economy</td>\n",
       "      <td>bad npa crisis say rbi report</td>\n",
       "      <td>1</td>\n",
       "    </tr>\n",
       "    <tr>\n",
       "      <th>3</th>\n",
       "      <td>Sports</td>\n",
       "      <td>ravi shastri comment keefe kerry keefe joke ma...</td>\n",
       "      <td>5</td>\n",
       "    </tr>\n",
       "    <tr>\n",
       "      <th>4</th>\n",
       "      <td>Photography</td>\n",
       "      <td>picture click pillar rock kodaikanal recent tr...</td>\n",
       "      <td>6</td>\n",
       "    </tr>\n",
       "    <tr>\n",
       "      <th>...</th>\n",
       "      <td>...</td>\n",
       "      <td>...</td>\n",
       "      <td>...</td>\n",
       "    </tr>\n",
       "    <tr>\n",
       "      <th>20743</th>\n",
       "      <td>Coronavirus</td>\n",
       "      <td>india leave behind local transmission phase mo...</td>\n",
       "      <td>10</td>\n",
       "    </tr>\n",
       "    <tr>\n",
       "      <th>20744</th>\n",
       "      <td>Policy/Economy</td>\n",
       "      <td>side story small businessman</td>\n",
       "      <td>1</td>\n",
       "    </tr>\n",
       "    <tr>\n",
       "      <th>20745</th>\n",
       "      <td>Coronavirus</td>\n",
       "      <td>indian astronaut train hold russia due covid l...</td>\n",
       "      <td>10</td>\n",
       "    </tr>\n",
       "    <tr>\n",
       "      <th>20746</th>\n",
       "      <td>Coronavirus</td>\n",
       "      <td>covid government threaten kashmir doctor stric...</td>\n",
       "      <td>10</td>\n",
       "    </tr>\n",
       "    <tr>\n",
       "      <th>20747</th>\n",
       "      <td>Coronavirus</td>\n",
       "      <td>coronavirus case double every day set touch week</td>\n",
       "      <td>10</td>\n",
       "    </tr>\n",
       "  </tbody>\n",
       "</table>\n",
       "<p>20748 rows × 3 columns</p>\n",
       "</div>"
      ],
      "text/plain": [
       "                  flair                                              title  \\\n",
       "0      Business/Finance  allow bank hold passport loan taker madras sug...   \n",
       "1        Policy/Economy  tamil nadu usher new year green note ban singl...   \n",
       "2        Policy/Economy                      bad npa crisis say rbi report   \n",
       "3                Sports  ravi shastri comment keefe kerry keefe joke ma...   \n",
       "4           Photography  picture click pillar rock kodaikanal recent tr...   \n",
       "...                 ...                                                ...   \n",
       "20743       Coronavirus  india leave behind local transmission phase mo...   \n",
       "20744    Policy/Economy                       side story small businessman   \n",
       "20745       Coronavirus  indian astronaut train hold russia due covid l...   \n",
       "20746       Coronavirus  covid government threaten kashmir doctor stric...   \n",
       "20747       Coronavirus   coronavirus case double every day set touch week   \n",
       "\n",
       "       flair_id  \n",
       "0             0  \n",
       "1             1  \n",
       "2             1  \n",
       "3             5  \n",
       "4             6  \n",
       "...         ...  \n",
       "20743        10  \n",
       "20744         1  \n",
       "20745        10  \n",
       "20746        10  \n",
       "20747        10  \n",
       "\n",
       "[20748 rows x 3 columns]"
      ]
     },
     "execution_count": 3,
     "metadata": {
      "tags": []
     },
     "output_type": "execute_result"
    }
   ],
   "source": [
    "data"
   ]
  },
  {
   "cell_type": "code",
   "execution_count": 0,
   "metadata": {
    "colab": {},
    "colab_type": "code",
    "id": "-bxlnTuPe7ir"
   },
   "outputs": [],
   "source": [
    "X = data['title']\n",
    "y = data['flair_id']"
   ]
  },
  {
   "cell_type": "code",
   "execution_count": 0,
   "metadata": {
    "colab": {},
    "colab_type": "code",
    "id": "ujGTuT7Me7iy",
    "outputId": "f5ced2e2-0367-4d39-a95c-b2025156b8a5"
   },
   "outputs": [
    {
     "name": "stdout",
     "output_type": "stream",
     "text": [
      "4.872758820127241 4.871987661461346\n"
     ]
    }
   ],
   "source": [
    "X_train, X_test, y_train, y_test, indices_train, indices_test = train_test_split(X, y, data.index, random_state=50, stratify=y)\n",
    "print(y_train.mean(), y_test.mean())"
   ]
  },
  {
   "cell_type": "markdown",
   "metadata": {
    "colab_type": "text",
    "id": "dkhkiUC2e7i5"
   },
   "source": [
    "### Count-Vectorizer"
   ]
  },
  {
   "cell_type": "code",
   "execution_count": 0,
   "metadata": {
    "colab": {},
    "colab_type": "code",
    "id": "xPaXWuHMe7i6"
   },
   "outputs": [],
   "source": [
    "tf_vectorizer = CountVectorizer(max_df=0.2, ngram_range=(1,1))#, max_features=5000\n",
    "X_train_tf=tf_vectorizer.fit_transform(X_train)\n",
    "X_test_tf = tf_vectorizer.transform(X_test)\n",
    "# tf_feature_names = tf_vectorizer.get_feature_names()\n",
    "# doc_term_matrix = pd.DataFrame(tf.toarray(), columns=list(tf_feature_names))"
   ]
  },
  {
   "cell_type": "markdown",
   "metadata": {
    "colab_type": "text",
    "id": "mzYmeWvze7jB"
   },
   "source": [
    "#### Logistic Regression"
   ]
  },
  {
   "cell_type": "code",
   "execution_count": 0,
   "metadata": {
    "colab": {},
    "colab_type": "code",
    "id": "so3DZDVSe7jB",
    "outputId": "2255346c-9c39-4b7a-a405-8bd247c7142a"
   },
   "outputs": [
    {
     "data": {
      "text/plain": [
       "0.575091575091575"
      ]
     },
     "execution_count": 206,
     "metadata": {
      "tags": []
     },
     "output_type": "execute_result"
    }
   ],
   "source": [
    "logreg = LogisticRegression(class_weight='balanced', max_iter=200)\n",
    "logreg.fit(X_train_tf, y_train)\n",
    "logreg.score(X_test_tf, y_test)"
   ]
  },
  {
   "cell_type": "markdown",
   "metadata": {
    "colab_type": "text",
    "id": "bhdXCkd9e7jF"
   },
   "source": [
    "#### Multinomial Naive Bayes"
   ]
  },
  {
   "cell_type": "code",
   "execution_count": 0,
   "metadata": {
    "colab": {},
    "colab_type": "code",
    "id": "pwpi34wwe7jG",
    "outputId": "ceff8280-6abc-4f6b-a80d-9528ca845358"
   },
   "outputs": [
    {
     "data": {
      "text/plain": [
       "0.5793329477540003"
      ]
     },
     "execution_count": 207,
     "metadata": {
      "tags": []
     },
     "output_type": "execute_result"
    }
   ],
   "source": [
    "mnb = MultinomialNB()\n",
    "mnb.fit(X_train_tf, y_train)\n",
    "mnb.score(X_test_tf, y_test)"
   ]
  },
  {
   "cell_type": "markdown",
   "metadata": {
    "colab_type": "text",
    "id": "doEBLVDte7jM"
   },
   "source": [
    "#### SVC"
   ]
  },
  {
   "cell_type": "code",
   "execution_count": 0,
   "metadata": {
    "colab": {},
    "colab_type": "code",
    "id": "1Au7HPaUe7jN",
    "outputId": "16e0ac22-99b7-474a-8758-2f076cb61b1c"
   },
   "outputs": [
    {
     "data": {
      "text/plain": [
       "0.5465587044534413"
      ]
     },
     "execution_count": 208,
     "metadata": {
      "tags": []
     },
     "output_type": "execute_result"
    }
   ],
   "source": [
    "svc = LinearSVC(max_iter=2000, class_weight='balanced')\n",
    "svc.fit(X_train_tf, y_train)\n",
    "svc.score(X_test_tf, y_test)"
   ]
  },
  {
   "cell_type": "markdown",
   "metadata": {
    "colab_type": "text",
    "id": "OZa2rF6_e7jS"
   },
   "source": [
    "#### Random Forest"
   ]
  },
  {
   "cell_type": "code",
   "execution_count": 0,
   "metadata": {
    "colab": {},
    "colab_type": "code",
    "id": "BwoRVIHUe7jT",
    "outputId": "34cd06bb-37e0-4755-df92-0c7589f4c3a3"
   },
   "outputs": [
    {
     "data": {
      "text/plain": [
       "0.5309427414690573"
      ]
     },
     "execution_count": 88,
     "metadata": {
      "tags": []
     },
     "output_type": "execute_result"
    }
   ],
   "source": [
    "rand = RandomForestClassifier(n_estimators=200)\n",
    "rand.fit(X_train_tf, y_train)\n",
    "rand.score(X_test_tf, y_test)"
   ]
  },
  {
   "cell_type": "markdown",
   "metadata": {
    "colab_type": "text",
    "id": "m8dpJB4Ee7jY"
   },
   "source": [
    "### Count-Vectorizer Bi-Gram"
   ]
  },
  {
   "cell_type": "code",
   "execution_count": 0,
   "metadata": {
    "colab": {},
    "colab_type": "code",
    "id": "IrAlv6gUe7jZ"
   },
   "outputs": [],
   "source": [
    "tf_vectorizer = CountVectorizer(max_df=0.2,ngram_range=(1,2))\n",
    "X_train_tf=tf_vectorizer.fit_transform(X_train)\n",
    "X_test_tf = tf_vectorizer.transform(X_test)"
   ]
  },
  {
   "cell_type": "markdown",
   "metadata": {
    "colab_type": "text",
    "id": "jygzlRoJe7jf"
   },
   "source": [
    "#### Logistic Regression"
   ]
  },
  {
   "cell_type": "code",
   "execution_count": 0,
   "metadata": {
    "colab": {},
    "colab_type": "code",
    "id": "7YX3yxRNe7jg",
    "outputId": "9527f300-e892-4f83-bec8-671ab07c3df6"
   },
   "outputs": [
    {
     "data": {
      "text/plain": [
       "0.5880084827453248"
      ]
     },
     "execution_count": 210,
     "metadata": {
      "tags": []
     },
     "output_type": "execute_result"
    }
   ],
   "source": [
    "logreg = LogisticRegression(class_weight='balanced', max_iter=200)\n",
    "logreg.fit(X_train_tf, y_train)\n",
    "logreg.score(X_test_tf, y_test)"
   ]
  },
  {
   "cell_type": "markdown",
   "metadata": {
    "colab_type": "text",
    "id": "ngtW-_5Ce7jm"
   },
   "source": [
    "#### Multinomial Naive Bayes"
   ]
  },
  {
   "cell_type": "code",
   "execution_count": 0,
   "metadata": {
    "colab": {},
    "colab_type": "code",
    "id": "GrtXFrzke7jm",
    "outputId": "1a026cca-d5f6-4c03-ef1e-9a7d34e0c259"
   },
   "outputs": [
    {
     "data": {
      "text/plain": [
       "0.5650665124349334"
      ]
     },
     "execution_count": 211,
     "metadata": {
      "tags": []
     },
     "output_type": "execute_result"
    }
   ],
   "source": [
    "mnb = MultinomialNB()\n",
    "mnb.fit(X_train_tf, y_train)\n",
    "mnb.score(X_test_tf, y_test)"
   ]
  },
  {
   "cell_type": "markdown",
   "metadata": {
    "colab_type": "text",
    "id": "IA-lCgvqe7jr"
   },
   "source": [
    "#### SVC"
   ]
  },
  {
   "cell_type": "code",
   "execution_count": 0,
   "metadata": {
    "colab": {},
    "colab_type": "code",
    "id": "Dymdrm_Re7js",
    "outputId": "7dcfb907-e891-429b-d484-178e58005a25"
   },
   "outputs": [
    {
     "data": {
      "text/plain": [
       "0.5646809331019857"
      ]
     },
     "execution_count": 212,
     "metadata": {
      "tags": []
     },
     "output_type": "execute_result"
    }
   ],
   "source": [
    "svc = LinearSVC(max_iter=2000)\n",
    "svc.fit(X_train_tf, y_train)\n",
    "svc.score(X_test_tf, y_test)"
   ]
  },
  {
   "cell_type": "markdown",
   "metadata": {
    "colab_type": "text",
    "id": "dB0mp3D5e7jx"
   },
   "source": [
    "#### Random Forest"
   ]
  },
  {
   "cell_type": "code",
   "execution_count": 0,
   "metadata": {
    "colab": {},
    "colab_type": "code",
    "id": "VGglZZkDe7jy",
    "outputId": "f195e49f-8e1d-4243-830d-409c015b1b4f"
   },
   "outputs": [
    {
     "data": {
      "text/plain": [
       "0.5288220551378446"
      ]
     },
     "execution_count": 107,
     "metadata": {
      "tags": []
     },
     "output_type": "execute_result"
    }
   ],
   "source": [
    "rand = RandomForestClassifier(n_estimators=200)\n",
    "rand.fit(X_train_tf, y_train)\n",
    "rand.score(X_test_tf, y_test)"
   ]
  },
  {
   "cell_type": "markdown",
   "metadata": {
    "colab_type": "text",
    "id": "N51fOpake7j1"
   },
   "source": [
    "### TF-IDF"
   ]
  },
  {
   "cell_type": "code",
   "execution_count": 0,
   "metadata": {
    "colab": {},
    "colab_type": "code",
    "id": "NIL51eoIe7j3"
   },
   "outputs": [],
   "source": [
    "tfidf_vectorizer = TfidfVectorizer(max_df=0.2, use_idf=True)\n",
    "X_train_tfidf = tfidf_vectorizer.fit_transform(X_train)\n",
    "X_test_tfidf = tfidf_vectorizer.transform(X_test)"
   ]
  },
  {
   "cell_type": "markdown",
   "metadata": {
    "colab_type": "text",
    "id": "DPsU2520e7j6"
   },
   "source": [
    "#### Logistic Regression"
   ]
  },
  {
   "cell_type": "code",
   "execution_count": 0,
   "metadata": {
    "colab": {},
    "colab_type": "code",
    "id": "Kk-LPY6Fe7j7",
    "outputId": "846b6992-ec46-4f04-ec21-bac0be5207ae"
   },
   "outputs": [
    {
     "data": {
      "text/plain": [
       "0.6020821283979179"
      ]
     },
     "execution_count": 214,
     "metadata": {
      "tags": []
     },
     "output_type": "execute_result"
    }
   ],
   "source": [
    "logreg = LogisticRegression(class_weight='balanced', max_iter=200)\n",
    "logreg.fit(X_train_tfidf, y_train)\n",
    "logreg.score(X_test_tfidf, y_test)"
   ]
  },
  {
   "cell_type": "markdown",
   "metadata": {
    "colab_type": "text",
    "id": "ufsrorHke7j_"
   },
   "source": [
    "#### Multinomial Naive Bayes"
   ]
  },
  {
   "cell_type": "code",
   "execution_count": 0,
   "metadata": {
    "colab": {},
    "colab_type": "code",
    "id": "1bHyHLdJe7kA",
    "outputId": "9593dd03-bced-4f88-9461-2c28f9f7e8ce"
   },
   "outputs": [
    {
     "data": {
      "text/plain": [
       "0.5789473684210527"
      ]
     },
     "execution_count": 215,
     "metadata": {
      "tags": []
     },
     "output_type": "execute_result"
    }
   ],
   "source": [
    "mnb = MultinomialNB()\n",
    "mnb.fit(X_train_tfidf, y_train)\n",
    "mnb.score(X_test_tfidf, y_test)"
   ]
  },
  {
   "cell_type": "markdown",
   "metadata": {
    "colab_type": "text",
    "id": "eUHIKnuXe7kF"
   },
   "source": [
    "#### SVC"
   ]
  },
  {
   "cell_type": "code",
   "execution_count": 0,
   "metadata": {
    "colab": {},
    "colab_type": "code",
    "id": "MgIG6bXde7kF",
    "outputId": "d290e51a-09dc-40bb-adce-5334531dc868"
   },
   "outputs": [
    {
     "data": {
      "text/plain": [
       "0.5806824754193175"
      ]
     },
     "execution_count": 216,
     "metadata": {
      "tags": []
     },
     "output_type": "execute_result"
    }
   ],
   "source": [
    "svc = LinearSVC(max_iter=2000, class_weight='balanced')\n",
    "svc.fit(X_train_tfidf, y_train)\n",
    "svc.score(X_test_tfidf, y_test)"
   ]
  },
  {
   "cell_type": "markdown",
   "metadata": {
    "colab_type": "text",
    "id": "YpcRtXQ4e7kJ"
   },
   "source": [
    "#### Random Forest"
   ]
  },
  {
   "cell_type": "code",
   "execution_count": 0,
   "metadata": {
    "colab": {},
    "colab_type": "code",
    "id": "1VgS8CRBe7kK",
    "outputId": "c5d63eba-7f08-44e3-fa50-4706b0b4a79a"
   },
   "outputs": [
    {
     "data": {
      "text/plain": [
       "0.5708502024291497"
      ]
     },
     "execution_count": 218,
     "metadata": {
      "tags": []
     },
     "output_type": "execute_result"
    }
   ],
   "source": [
    "rand = RandomForestClassifier(n_estimators=200)\n",
    "rand.fit(X_train_tfidf, y_train)\n",
    "rand.score(X_test_tfidf, y_test)"
   ]
  },
  {
   "cell_type": "markdown",
   "metadata": {
    "colab_type": "text",
    "id": "Y5rhFwW7e7kO"
   },
   "source": [
    "### TF-IDF Bi-gram"
   ]
  },
  {
   "cell_type": "code",
   "execution_count": 0,
   "metadata": {
    "colab": {},
    "colab_type": "code",
    "id": "s8MXScg4e7kP"
   },
   "outputs": [],
   "source": [
    "tfidf_vectorizer = TfidfVectorizer(max_df=0.2,stop_words='english',ngram_range=(1,2),use_idf=True)\n",
    "X_train_tfidf = tfidf_vectorizer.fit_transform(X_train)\n",
    "X_test_tfidf = tfidf_vectorizer.transform(X_test)"
   ]
  },
  {
   "cell_type": "markdown",
   "metadata": {
    "colab_type": "text",
    "id": "09vMugHTe7kU"
   },
   "source": [
    "#### Logistic Regression"
   ]
  },
  {
   "cell_type": "code",
   "execution_count": 0,
   "metadata": {
    "colab": {},
    "colab_type": "code",
    "id": "2vPImWQLe7kU",
    "outputId": "ee4dc0e0-f0cf-4b7d-cd22-d0bc3dc728b2"
   },
   "outputs": [
    {
     "data": {
      "text/plain": [
       "0.6020821283979179"
      ]
     },
     "execution_count": 20,
     "metadata": {
      "tags": []
     },
     "output_type": "execute_result"
    }
   ],
   "source": [
    "logreg = LogisticRegression(class_weight='balanced', max_iter=200)\n",
    "logreg.fit(X_train_tfidf, y_train)\n",
    "logreg.score(X_test_tfidf, y_test)"
   ]
  },
  {
   "cell_type": "markdown",
   "metadata": {
    "colab_type": "text",
    "id": "NYhg82CVe7kY"
   },
   "source": [
    "#### Multinomial Naive Bayes"
   ]
  },
  {
   "cell_type": "code",
   "execution_count": 0,
   "metadata": {
    "colab": {},
    "colab_type": "code",
    "id": "zrmlTB-ze7kZ",
    "outputId": "7afd730f-dcc2-4a15-ae30-3488ea4cf0ae"
   },
   "outputs": [
    {
     "data": {
      "text/plain": [
       "0.5860805860805861"
      ]
     },
     "execution_count": 221,
     "metadata": {
      "tags": []
     },
     "output_type": "execute_result"
    }
   ],
   "source": [
    "mnb = MultinomialNB()\n",
    "mnb.fit(X_train_tfidf, y_train)\n",
    "mnb.score(X_test_tfidf, y_test)"
   ]
  },
  {
   "cell_type": "markdown",
   "metadata": {
    "colab_type": "text",
    "id": "xizJxLEue7ke"
   },
   "source": [
    "#### SVC"
   ]
  },
  {
   "cell_type": "code",
   "execution_count": 0,
   "metadata": {
    "colab": {},
    "colab_type": "code",
    "id": "koXcdepne7ke",
    "outputId": "a31de979-79e4-414c-df30-446360a4d03a"
   },
   "outputs": [
    {
     "data": {
      "text/plain": [
       "0.603431656063235"
      ]
     },
     "execution_count": 19,
     "metadata": {
      "tags": []
     },
     "output_type": "execute_result"
    }
   ],
   "source": [
    "svc = LinearSVC(class_weight='balanced',max_iter=2000)\n",
    "svc.fit(X_train_tfidf, y_train)\n",
    "svc.score(X_test_tfidf, y_test)"
   ]
  },
  {
   "cell_type": "markdown",
   "metadata": {
    "colab_type": "text",
    "id": "LOBZwzQye7kk"
   },
   "source": [
    "#### Random Forest"
   ]
  },
  {
   "cell_type": "code",
   "execution_count": 0,
   "metadata": {
    "colab": {},
    "colab_type": "code",
    "id": "iQ5s3nHde7kl",
    "outputId": "d6469bb9-5eff-4382-9ac9-edc37189ffe2"
   },
   "outputs": [
    {
     "data": {
      "text/plain": [
       "0.5617890881048776"
      ]
     },
     "execution_count": 223,
     "metadata": {
      "tags": []
     },
     "output_type": "execute_result"
    }
   ],
   "source": [
    "rand = RandomForestClassifier(n_estimators=200)\n",
    "rand.fit(X_train_tfidf, y_train)\n",
    "rand.score(X_test_tfidf, y_test)"
   ]
  },
  {
   "cell_type": "markdown",
   "metadata": {
    "colab_type": "text",
    "id": "-npkLvyWe7ko"
   },
   "source": [
    "## Model Evaluation\n",
    "Taking our best model SVC(linear), evaluation the model for identifying discrepancies in the predicted and actual labels"
   ]
  },
  {
   "cell_type": "code",
   "execution_count": 0,
   "metadata": {
    "colab": {},
    "colab_type": "code",
    "id": "rIXvVIpre7kp"
   },
   "outputs": [],
   "source": [
    "label_to_id = {\"Business/Finance\" : 0,\n",
    "\"Policy/Economy\" : 1,\n",
    "\"[R]eddiquette\" : 2,\n",
    "\"Food\" : 3,\n",
    "\"Science/Technology\" : 4,\n",
    "\"Sports\" : 5,\n",
    "\"Photography\" : 6,\n",
    "\"Politics\" : 7,\n",
    "\"AskIndia\" : 8,\n",
    "'CAA-NRC' : 9,\n",
    "'Coronavirus' : 10,                         \n",
    "}\n",
    "\n",
    "id_to_label = {v: k for k, v in label_to_id.items()}"
   ]
  },
  {
   "cell_type": "code",
   "execution_count": 0,
   "metadata": {
    "colab": {},
    "colab_type": "code",
    "id": "uhpPrbEpe7ks",
    "outputId": "acdf812c-83b2-4953-c468-4c04c2dcdc86"
   },
   "outputs": [
    {
     "data": {
      "image/png": "[encoded data removed]",
      "text/plain": [
       "<Figure size 720x720 with 2 Axes>"
      ]
     },
     "metadata": {
      "needs_background": "light",
      "tags": []
     },
     "output_type": "display_data"
    }
   ],
   "source": [
    "y_pred = svc.predict(X_test_tfidf)\n",
    "\n",
    "conf_mat = confusion_matrix(y_test, y_pred)\n",
    "fig, ax = plt.subplots(figsize=(10,10))\n",
    "sns.heatmap(conf_mat, annot=True, fmt='d',\n",
    "            xticklabels=label_to_id.keys(), yticklabels=label_to_id.keys())\n",
    "plt.ylabel('Actual')\n",
    "plt.xlabel('Predicted')\n",
    "plt.show()"
   ]
  },
  {
   "cell_type": "code",
   "execution_count": 0,
   "metadata": {
    "colab": {},
    "colab_type": "code",
    "id": "lIhLS29Pe7kw",
    "outputId": "ed643aa0-0c15-4f8a-e27e-994e0ed164e0"
   },
   "outputs": [
    {
     "name": "stdout",
     "output_type": "stream",
     "text": [
      "'Business/Finance' predicted as 'Policy/Economy' : 58 examples.\n"
     ]
    },
    {
     "data": {
      "text/html": [
       "<div>\n",
       "<style scoped>\n",
       "    .dataframe tbody tr th:only-of-type {\n",
       "        vertical-align: middle;\n",
       "    }\n",
       "\n",
       "    .dataframe tbody tr th {\n",
       "        vertical-align: top;\n",
       "    }\n",
       "\n",
       "    .dataframe thead th {\n",
       "        text-align: right;\n",
       "    }\n",
       "</style>\n",
       "<table border=\"1\" class=\"dataframe\">\n",
       "  <thead>\n",
       "    <tr style=\"text-align: right;\">\n",
       "      <th></th>\n",
       "      <th>flair</th>\n",
       "      <th>title</th>\n",
       "    </tr>\n",
       "  </thead>\n",
       "  <tbody>\n",
       "    <tr>\n",
       "      <th>6992</th>\n",
       "      <td>Business/Finance</td>\n",
       "      <td>forex reserve hit record high billion</td>\n",
       "    </tr>\n",
       "    <tr>\n",
       "      <th>3169</th>\n",
       "      <td>Business/Finance</td>\n",
       "      <td>wealth word day exchange trade fund</td>\n",
       "    </tr>\n",
       "    <tr>\n",
       "      <th>7572</th>\n",
       "      <td>Business/Finance</td>\n",
       "      <td>question receive overseas payment paypal hello...</td>\n",
       "    </tr>\n",
       "    <tr>\n",
       "      <th>550</th>\n",
       "      <td>Business/Finance</td>\n",
       "      <td>global steam generator iron market stabil bert...</td>\n",
       "    </tr>\n",
       "    <tr>\n",
       "      <th>5396</th>\n",
       "      <td>Business/Finance</td>\n",
       "      <td>ngo head dupe people hold crore housing scam</td>\n",
       "    </tr>\n",
       "    <tr>\n",
       "      <th>6897</th>\n",
       "      <td>Business/Finance</td>\n",
       "      <td>agri export apeda organise buyer seller meet m...</td>\n",
       "    </tr>\n",
       "    <tr>\n",
       "      <th>943</th>\n",
       "      <td>Business/Finance</td>\n",
       "      <td>book low budget flat north kolkata within lakh</td>\n",
       "    </tr>\n",
       "    <tr>\n",
       "      <th>8341</th>\n",
       "      <td>Business/Finance</td>\n",
       "      <td>maruti suzuki july sale crash two year low</td>\n",
       "    </tr>\n",
       "    <tr>\n",
       "      <th>9494</th>\n",
       "      <td>Business/Finance</td>\n",
       "      <td>finance minister nirmala sitharaman announces ...</td>\n",
       "    </tr>\n",
       "    <tr>\n",
       "      <th>2595</th>\n",
       "      <td>Business/Finance</td>\n",
       "      <td>oyo world seventh large hotel chain hospitalit...</td>\n",
       "    </tr>\n",
       "    <tr>\n",
       "      <th>391</th>\n",
       "      <td>Business/Finance</td>\n",
       "      <td>nam commences inter state trade apmc mandis</td>\n",
       "    </tr>\n",
       "    <tr>\n",
       "      <th>10972</th>\n",
       "      <td>Business/Finance</td>\n",
       "      <td>irctc ipo crore open september check price ban...</td>\n",
       "    </tr>\n",
       "    <tr>\n",
       "      <th>13787</th>\n",
       "      <td>Business/Finance</td>\n",
       "      <td>share market reach time high today sensex reac...</td>\n",
       "    </tr>\n",
       "    <tr>\n",
       "      <th>11829</th>\n",
       "      <td>Business/Finance</td>\n",
       "      <td>difference venture capitalist angel investor</td>\n",
       "    </tr>\n",
       "    <tr>\n",
       "      <th>14328</th>\n",
       "      <td>Business/Finance</td>\n",
       "      <td>hinduja synergy dubai fund may bid jet airway</td>\n",
       "    </tr>\n",
       "    <tr>\n",
       "      <th>6104</th>\n",
       "      <td>Business/Finance</td>\n",
       "      <td>allegation siphon bizarre indiabulls housing f...</td>\n",
       "    </tr>\n",
       "    <tr>\n",
       "      <th>3435</th>\n",
       "      <td>Business/Finance</td>\n",
       "      <td>april late eco news today eco news hindi</td>\n",
       "    </tr>\n",
       "    <tr>\n",
       "      <th>12337</th>\n",
       "      <td>Business/Finance</td>\n",
       "      <td>new joint venture maruti toyota</td>\n",
       "    </tr>\n",
       "    <tr>\n",
       "      <th>3146</th>\n",
       "      <td>Business/Finance</td>\n",
       "      <td>march eco news daily eco news late eco news hindi</td>\n",
       "    </tr>\n",
       "    <tr>\n",
       "      <th>4394</th>\n",
       "      <td>Business/Finance</td>\n",
       "      <td>deloitte star lengthy india ban look event lead</td>\n",
       "    </tr>\n",
       "    <tr>\n",
       "      <th>10918</th>\n",
       "      <td>Business/Finance</td>\n",
       "      <td>update good service tax rate gst explain video</td>\n",
       "    </tr>\n",
       "    <tr>\n",
       "      <th>7383</th>\n",
       "      <td>Business/Finance</td>\n",
       "      <td>late union budget unveil modi government</td>\n",
       "    </tr>\n",
       "    <tr>\n",
       "      <th>7376</th>\n",
       "      <td>Business/Finance</td>\n",
       "      <td>india plan billion bank recapitalisation help ...</td>\n",
       "    </tr>\n",
       "    <tr>\n",
       "      <th>723</th>\n",
       "      <td>Business/Finance</td>\n",
       "      <td>india budget number bogus</td>\n",
       "    </tr>\n",
       "    <tr>\n",
       "      <th>10791</th>\n",
       "      <td>Business/Finance</td>\n",
       "      <td>decision gst council meeting bring gdp track l...</td>\n",
       "    </tr>\n",
       "    <tr>\n",
       "      <th>3957</th>\n",
       "      <td>Business/Finance</td>\n",
       "      <td>rakesh jhunjhunwala rue poor gain decade bull run</td>\n",
       "    </tr>\n",
       "    <tr>\n",
       "      <th>8858</th>\n",
       "      <td>Business/Finance</td>\n",
       "      <td>economy tank thus decide give people idea pros...</td>\n",
       "    </tr>\n",
       "    <tr>\n",
       "      <th>13984</th>\n",
       "      <td>Business/Finance</td>\n",
       "      <td>india democracy question spyware data bill</td>\n",
       "    </tr>\n",
       "    <tr>\n",
       "      <th>10275</th>\n",
       "      <td>Business/Finance</td>\n",
       "      <td>wonder capital infusion people still wonder la...</td>\n",
       "    </tr>\n",
       "    <tr>\n",
       "      <th>14240</th>\n",
       "      <td>Business/Finance</td>\n",
       "      <td>coal fire plant around new delhi run despite m...</td>\n",
       "    </tr>\n",
       "    <tr>\n",
       "      <th>16934</th>\n",
       "      <td>Business/Finance</td>\n",
       "      <td>street buzz metal stock tumble lead jsw steel ...</td>\n",
       "    </tr>\n",
       "    <tr>\n",
       "      <th>8956</th>\n",
       "      <td>Business/Finance</td>\n",
       "      <td>india resilient budget carrier pressure air india</td>\n",
       "    </tr>\n",
       "    <tr>\n",
       "      <th>6741</th>\n",
       "      <td>Business/Finance</td>\n",
       "      <td>viral acharya resigns rbi deputy governor quit...</td>\n",
       "    </tr>\n",
       "    <tr>\n",
       "      <th>11245</th>\n",
       "      <td>Business/Finance</td>\n",
       "      <td>ease approve supplier vendor management evalua...</td>\n",
       "    </tr>\n",
       "    <tr>\n",
       "      <th>12935</th>\n",
       "      <td>Business/Finance</td>\n",
       "      <td>tax litigation saga continue gst</td>\n",
       "    </tr>\n",
       "    <tr>\n",
       "      <th>2579</th>\n",
       "      <td>Business/Finance</td>\n",
       "      <td>bsnl fail pay february salary lakh employee</td>\n",
       "    </tr>\n",
       "    <tr>\n",
       "      <th>3976</th>\n",
       "      <td>Business/Finance</td>\n",
       "      <td>handyman app like uber star demand economy app...</td>\n",
       "    </tr>\n",
       "    <tr>\n",
       "      <th>7180</th>\n",
       "      <td>Business/Finance</td>\n",
       "      <td>government propose crore bailout bsnl mtnl</td>\n",
       "    </tr>\n",
       "    <tr>\n",
       "      <th>14677</th>\n",
       "      <td>Business/Finance</td>\n",
       "      <td>india hand people data american dream</td>\n",
       "    </tr>\n",
       "    <tr>\n",
       "      <th>4767</th>\n",
       "      <td>Business/Finance</td>\n",
       "      <td>beyond demonetisation gst ibc ajay bhat monnet...</td>\n",
       "    </tr>\n",
       "    <tr>\n",
       "      <th>11381</th>\n",
       "      <td>Business/Finance</td>\n",
       "      <td>could lose large chunk deposit bank fails</td>\n",
       "    </tr>\n",
       "    <tr>\n",
       "      <th>16195</th>\n",
       "      <td>Business/Finance</td>\n",
       "      <td>request bank take back principal amount vijay ...</td>\n",
       "    </tr>\n",
       "    <tr>\n",
       "      <th>10509</th>\n",
       "      <td>Business/Finance</td>\n",
       "      <td>govt refuse airline plea bilateral right</td>\n",
       "    </tr>\n",
       "    <tr>\n",
       "      <th>10177</th>\n",
       "      <td>Business/Finance</td>\n",
       "      <td>gurugram india first fully privately finance r...</td>\n",
       "    </tr>\n",
       "    <tr>\n",
       "      <th>3391</th>\n",
       "      <td>Business/Finance</td>\n",
       "      <td>april eco news today eco news late eco news hindi</td>\n",
       "    </tr>\n",
       "    <tr>\n",
       "      <th>5487</th>\n",
       "      <td>Business/Finance</td>\n",
       "      <td>jsf nabard join hand raise farmer income</td>\n",
       "    </tr>\n",
       "    <tr>\n",
       "      <th>4771</th>\n",
       "      <td>Business/Finance</td>\n",
       "      <td>key thing must know neft imp rtgs digital mone...</td>\n",
       "    </tr>\n",
       "    <tr>\n",
       "      <th>2524</th>\n",
       "      <td>Business/Finance</td>\n",
       "      <td>demonetisation connect miss dot narendra modi ...</td>\n",
       "    </tr>\n",
       "    <tr>\n",
       "      <th>15375</th>\n",
       "      <td>Business/Finance</td>\n",
       "      <td>india opportunity take benefit china trade war...</td>\n",
       "    </tr>\n",
       "    <tr>\n",
       "      <th>17936</th>\n",
       "      <td>Business/Finance</td>\n",
       "      <td>sector wise fdi inflow make india</td>\n",
       "    </tr>\n",
       "    <tr>\n",
       "      <th>3922</th>\n",
       "      <td>Business/Finance</td>\n",
       "      <td>employee disappoint company gift titan watch g...</td>\n",
       "    </tr>\n",
       "    <tr>\n",
       "      <th>5152</th>\n",
       "      <td>Business/Finance</td>\n",
       "      <td>explain sensex point calm investor nerve</td>\n",
       "    </tr>\n",
       "    <tr>\n",
       "      <th>3264</th>\n",
       "      <td>Business/Finance</td>\n",
       "      <td>electronic visa india</td>\n",
       "    </tr>\n",
       "    <tr>\n",
       "      <th>6128</th>\n",
       "      <td>Business/Finance</td>\n",
       "      <td>flipkart move away china give boost make india</td>\n",
       "    </tr>\n",
       "    <tr>\n",
       "      <th>9402</th>\n",
       "      <td>Business/Finance</td>\n",
       "      <td>bank fraud rise crore rbi annual report</td>\n",
       "    </tr>\n",
       "    <tr>\n",
       "      <th>4007</th>\n",
       "      <td>Business/Finance</td>\n",
       "      <td>jet airway suspend operation fail secure new f...</td>\n",
       "    </tr>\n",
       "    <tr>\n",
       "      <th>6945</th>\n",
       "      <td>Business/Finance</td>\n",
       "      <td>indian money swiss bank fall</td>\n",
       "    </tr>\n",
       "    <tr>\n",
       "      <th>3262</th>\n",
       "      <td>Business/Finance</td>\n",
       "      <td>indian visa</td>\n",
       "    </tr>\n",
       "  </tbody>\n",
       "</table>\n",
       "</div>"
      ],
      "text/plain": [
       "                  flair                                              title\n",
       "6992   Business/Finance              forex reserve hit record high billion\n",
       "3169   Business/Finance                wealth word day exchange trade fund\n",
       "7572   Business/Finance  question receive overseas payment paypal hello...\n",
       "550    Business/Finance  global steam generator iron market stabil bert...\n",
       "5396   Business/Finance       ngo head dupe people hold crore housing scam\n",
       "6897   Business/Finance  agri export apeda organise buyer seller meet m...\n",
       "943    Business/Finance     book low budget flat north kolkata within lakh\n",
       "8341   Business/Finance         maruti suzuki july sale crash two year low\n",
       "9494   Business/Finance  finance minister nirmala sitharaman announces ...\n",
       "2595   Business/Finance  oyo world seventh large hotel chain hospitalit...\n",
       "391    Business/Finance        nam commences inter state trade apmc mandis\n",
       "10972  Business/Finance  irctc ipo crore open september check price ban...\n",
       "13787  Business/Finance  share market reach time high today sensex reac...\n",
       "11829  Business/Finance       difference venture capitalist angel investor\n",
       "14328  Business/Finance      hinduja synergy dubai fund may bid jet airway\n",
       "6104   Business/Finance  allegation siphon bizarre indiabulls housing f...\n",
       "3435   Business/Finance           april late eco news today eco news hindi\n",
       "12337  Business/Finance                    new joint venture maruti toyota\n",
       "3146   Business/Finance  march eco news daily eco news late eco news hindi\n",
       "4394   Business/Finance    deloitte star lengthy india ban look event lead\n",
       "10918  Business/Finance     update good service tax rate gst explain video\n",
       "7383   Business/Finance           late union budget unveil modi government\n",
       "7376   Business/Finance  india plan billion bank recapitalisation help ...\n",
       "723    Business/Finance                          india budget number bogus\n",
       "10791  Business/Finance  decision gst council meeting bring gdp track l...\n",
       "3957   Business/Finance  rakesh jhunjhunwala rue poor gain decade bull run\n",
       "8858   Business/Finance  economy tank thus decide give people idea pros...\n",
       "13984  Business/Finance         india democracy question spyware data bill\n",
       "10275  Business/Finance  wonder capital infusion people still wonder la...\n",
       "14240  Business/Finance  coal fire plant around new delhi run despite m...\n",
       "16934  Business/Finance  street buzz metal stock tumble lead jsw steel ...\n",
       "8956   Business/Finance  india resilient budget carrier pressure air india\n",
       "6741   Business/Finance  viral acharya resigns rbi deputy governor quit...\n",
       "11245  Business/Finance  ease approve supplier vendor management evalua...\n",
       "12935  Business/Finance                   tax litigation saga continue gst\n",
       "2579   Business/Finance        bsnl fail pay february salary lakh employee\n",
       "3976   Business/Finance  handyman app like uber star demand economy app...\n",
       "7180   Business/Finance         government propose crore bailout bsnl mtnl\n",
       "14677  Business/Finance              india hand people data american dream\n",
       "4767   Business/Finance  beyond demonetisation gst ibc ajay bhat monnet...\n",
       "11381  Business/Finance          could lose large chunk deposit bank fails\n",
       "16195  Business/Finance  request bank take back principal amount vijay ...\n",
       "10509  Business/Finance           govt refuse airline plea bilateral right\n",
       "10177  Business/Finance  gurugram india first fully privately finance r...\n",
       "3391   Business/Finance  april eco news today eco news late eco news hindi\n",
       "5487   Business/Finance           jsf nabard join hand raise farmer income\n",
       "4771   Business/Finance  key thing must know neft imp rtgs digital mone...\n",
       "2524   Business/Finance  demonetisation connect miss dot narendra modi ...\n",
       "15375  Business/Finance  india opportunity take benefit china trade war...\n",
       "17936  Business/Finance                  sector wise fdi inflow make india\n",
       "3922   Business/Finance  employee disappoint company gift titan watch g...\n",
       "5152   Business/Finance           explain sensex point calm investor nerve\n",
       "3264   Business/Finance                              electronic visa india\n",
       "6128   Business/Finance     flipkart move away china give boost make india\n",
       "9402   Business/Finance            bank fraud rise crore rbi annual report\n",
       "4007   Business/Finance  jet airway suspend operation fail secure new f...\n",
       "6945   Business/Finance                       indian money swiss bank fall\n",
       "3262   Business/Finance                                        indian visa"
      ]
     },
     "metadata": {
      "tags": []
     },
     "output_type": "display_data"
    },
    {
     "name": "stdout",
     "output_type": "stream",
     "text": [
      "\n",
      "'Politics' predicted as '[R]eddiquette' : 50 examples.\n"
     ]
    },
    {
     "data": {
      "text/html": [
       "<div>\n",
       "<style scoped>\n",
       "    .dataframe tbody tr th:only-of-type {\n",
       "        vertical-align: middle;\n",
       "    }\n",
       "\n",
       "    .dataframe tbody tr th {\n",
       "        vertical-align: top;\n",
       "    }\n",
       "\n",
       "    .dataframe thead th {\n",
       "        text-align: right;\n",
       "    }\n",
       "</style>\n",
       "<table border=\"1\" class=\"dataframe\">\n",
       "  <thead>\n",
       "    <tr style=\"text-align: right;\">\n",
       "      <th></th>\n",
       "      <th>flair</th>\n",
       "      <th>title</th>\n",
       "    </tr>\n",
       "  </thead>\n",
       "  <tbody>\n",
       "    <tr>\n",
       "      <th>14919</th>\n",
       "      <td>Politics</td>\n",
       "      <td>pariksha charcha alok</td>\n",
       "    </tr>\n",
       "    <tr>\n",
       "      <th>12341</th>\n",
       "      <td>Politics</td>\n",
       "      <td>difference indias tourism pakistan tourism eve...</td>\n",
       "    </tr>\n",
       "    <tr>\n",
       "      <th>14322</th>\n",
       "      <td>Politics</td>\n",
       "      <td>escape responsibility point blame past govt sa...</td>\n",
       "    </tr>\n",
       "    <tr>\n",
       "      <th>14759</th>\n",
       "      <td>Politics</td>\n",
       "      <td>invitation statue worshipper india</td>\n",
       "    </tr>\n",
       "    <tr>\n",
       "      <th>17967</th>\n",
       "      <td>Politics</td>\n",
       "      <td>political crisis governor lalji tandon direct ...</td>\n",
       "    </tr>\n",
       "    <tr>\n",
       "      <th>8254</th>\n",
       "      <td>Politics</td>\n",
       "      <td>news paper read todays news paper front page r...</td>\n",
       "    </tr>\n",
       "    <tr>\n",
       "      <th>11980</th>\n",
       "      <td>Politics</td>\n",
       "      <td>high alert nagaland manipur october naga peace...</td>\n",
       "    </tr>\n",
       "    <tr>\n",
       "      <th>11751</th>\n",
       "      <td>Politics</td>\n",
       "      <td>get fact sake family son kamleshtiwarilynched ...</td>\n",
       "    </tr>\n",
       "    <tr>\n",
       "      <th>10817</th>\n",
       "      <td>Politics</td>\n",
       "      <td>gurubari song sharbeswar bhoi odia music samba...</td>\n",
       "    </tr>\n",
       "    <tr>\n",
       "      <th>10630</th>\n",
       "      <td>Politics</td>\n",
       "      <td>evidence chidambaram say ram</td>\n",
       "    </tr>\n",
       "    <tr>\n",
       "      <th>2148</th>\n",
       "      <td>Politics</td>\n",
       "      <td>indian pilot capture pakistan release today wi...</td>\n",
       "    </tr>\n",
       "    <tr>\n",
       "      <th>9109</th>\n",
       "      <td>Politics</td>\n",
       "      <td>hitler hindu rise rise india nazi loving natio...</td>\n",
       "    </tr>\n",
       "    <tr>\n",
       "      <th>14668</th>\n",
       "      <td>Politics</td>\n",
       "      <td>arif mohammad khan aap adalat full episode</td>\n",
       "    </tr>\n",
       "    <tr>\n",
       "      <th>2103</th>\n",
       "      <td>Politics</td>\n",
       "      <td>pakistan release pilot seek limit tension india</td>\n",
       "    </tr>\n",
       "    <tr>\n",
       "      <th>7223</th>\n",
       "      <td>Politics</td>\n",
       "      <td>tripura man lynch suspicion cattle thief</td>\n",
       "    </tr>\n",
       "    <tr>\n",
       "      <th>10521</th>\n",
       "      <td>Politics</td>\n",
       "      <td>pakistan lawmaker imran khan party seek asylum...</td>\n",
       "    </tr>\n",
       "    <tr>\n",
       "      <th>2002</th>\n",
       "      <td>Politics</td>\n",
       "      <td>balakot iaf strike jem terror camp four hour d...</td>\n",
       "    </tr>\n",
       "    <tr>\n",
       "      <th>16977</th>\n",
       "      <td>Politics</td>\n",
       "      <td>absolutely rabid comment post assault time jou...</td>\n",
       "    </tr>\n",
       "    <tr>\n",
       "      <th>2037</th>\n",
       "      <td>Politics</td>\n",
       "      <td>iaf pilot one wind commander abhinandan captur...</td>\n",
       "    </tr>\n",
       "    <tr>\n",
       "      <th>11115</th>\n",
       "      <td>Politics</td>\n",
       "      <td>surgical strike student dropout journalism hig...</td>\n",
       "    </tr>\n",
       "    <tr>\n",
       "      <th>12859</th>\n",
       "      <td>Politics</td>\n",
       "      <td>problem begin student disregard burden respons...</td>\n",
       "    </tr>\n",
       "    <tr>\n",
       "      <th>4025</th>\n",
       "      <td>Politics</td>\n",
       "      <td>tashkent file propaganda film</td>\n",
       "    </tr>\n",
       "    <tr>\n",
       "      <th>12183</th>\n",
       "      <td>Politics</td>\n",
       "      <td>despite allegation sexual harassment former om...</td>\n",
       "    </tr>\n",
       "    <tr>\n",
       "      <th>435</th>\n",
       "      <td>Politics</td>\n",
       "      <td>kidnap daughter arvind kejriwal receives anony...</td>\n",
       "    </tr>\n",
       "    <tr>\n",
       "      <th>2153</th>\n",
       "      <td>Politics</td>\n",
       "      <td>pakistan lodge complaint india eco terrorism f...</td>\n",
       "    </tr>\n",
       "    <tr>\n",
       "      <th>1606</th>\n",
       "      <td>Politics</td>\n",
       "      <td>nuns protested indian bishop accuse rape say c...</td>\n",
       "    </tr>\n",
       "    <tr>\n",
       "      <th>5386</th>\n",
       "      <td>Politics</td>\n",
       "      <td>day kashmir shuts mourn zakir musa kill great ...</td>\n",
       "    </tr>\n",
       "    <tr>\n",
       "      <th>3016</th>\n",
       "      <td>Politics</td>\n",
       "      <td>gujarat dalit teenager tie tree beaten patan p...</td>\n",
       "    </tr>\n",
       "    <tr>\n",
       "      <th>14990</th>\n",
       "      <td>Politics</td>\n",
       "      <td>far right global</td>\n",
       "    </tr>\n",
       "    <tr>\n",
       "      <th>14609</th>\n",
       "      <td>Politics</td>\n",
       "      <td>blast chemical factory palghar near mumbai sev...</td>\n",
       "    </tr>\n",
       "    <tr>\n",
       "      <th>20739</th>\n",
       "      <td>Politics</td>\n",
       "      <td>ambedkar islam story must tell publish april</td>\n",
       "    </tr>\n",
       "    <tr>\n",
       "      <th>20025</th>\n",
       "      <td>Politics</td>\n",
       "      <td>shut kunal episode tejasvi surya</td>\n",
       "    </tr>\n",
       "    <tr>\n",
       "      <th>10940</th>\n",
       "      <td>Politics</td>\n",
       "      <td>law student accuse bjp leader chinmayanand rap...</td>\n",
       "    </tr>\n",
       "    <tr>\n",
       "      <th>9572</th>\n",
       "      <td>Politics</td>\n",
       "      <td>bjp leader book sexually harass daughter law</td>\n",
       "    </tr>\n",
       "    <tr>\n",
       "      <th>4979</th>\n",
       "      <td>Politics</td>\n",
       "      <td>new patch iaf squadron involve feb dogfight am...</td>\n",
       "    </tr>\n",
       "    <tr>\n",
       "      <th>15522</th>\n",
       "      <td>Politics</td>\n",
       "      <td>survivor una attack find end hard meet continu...</td>\n",
       "    </tr>\n",
       "    <tr>\n",
       "      <th>1851</th>\n",
       "      <td>Politics</td>\n",
       "      <td>fatf keep work pakistan curb terrorism financing</td>\n",
       "    </tr>\n",
       "    <tr>\n",
       "      <th>14347</th>\n",
       "      <td>Politics</td>\n",
       "      <td>prefer silence silence breaking</td>\n",
       "    </tr>\n",
       "    <tr>\n",
       "      <th>16316</th>\n",
       "      <td>Politics</td>\n",
       "      <td>dalit man wed procession take police protectio...</td>\n",
       "    </tr>\n",
       "    <tr>\n",
       "      <th>4899</th>\n",
       "      <td>Politics</td>\n",
       "      <td>father kill oppose eve tease daughter delhi ba...</td>\n",
       "    </tr>\n",
       "    <tr>\n",
       "      <th>5433</th>\n",
       "      <td>Politics</td>\n",
       "      <td>mumbai doctor kill allegedly casteist slur senior</td>\n",
       "    </tr>\n",
       "    <tr>\n",
       "      <th>2089</th>\n",
       "      <td>Politics</td>\n",
       "      <td>say war message love peace pakistan india unite</td>\n",
       "    </tr>\n",
       "    <tr>\n",
       "      <th>11872</th>\n",
       "      <td>Politics</td>\n",
       "      <td>chris hayes podcast kashmir</td>\n",
       "    </tr>\n",
       "    <tr>\n",
       "      <th>341</th>\n",
       "      <td>Politics</td>\n",
       "      <td>woman enter hindu temple india set protest</td>\n",
       "    </tr>\n",
       "    <tr>\n",
       "      <th>15116</th>\n",
       "      <td>Politics</td>\n",
       "      <td>real strike look like million say despotism india</td>\n",
       "    </tr>\n",
       "    <tr>\n",
       "      <th>12256</th>\n",
       "      <td>Politics</td>\n",
       "      <td>woman tahsildar burnt alive inside office tela...</td>\n",
       "    </tr>\n",
       "    <tr>\n",
       "      <th>8328</th>\n",
       "      <td>Politics</td>\n",
       "      <td>bjp expels jail lawmaker kuldeep sengar accuse...</td>\n",
       "    </tr>\n",
       "    <tr>\n",
       "      <th>17381</th>\n",
       "      <td>Politics</td>\n",
       "      <td>pulwama terror attack nia carry raid south kas...</td>\n",
       "    </tr>\n",
       "    <tr>\n",
       "      <th>14061</th>\n",
       "      <td>Politics</td>\n",
       "      <td>woman anticaaprotest townhall bangalore proud ...</td>\n",
       "    </tr>\n",
       "    <tr>\n",
       "      <th>2095</th>\n",
       "      <td>Politics</td>\n",
       "      <td>secure abhinandan release omar think</td>\n",
       "    </tr>\n",
       "  </tbody>\n",
       "</table>\n",
       "</div>"
      ],
      "text/plain": [
       "          flair                                              title\n",
       "14919  Politics                              pariksha charcha alok\n",
       "12341  Politics  difference indias tourism pakistan tourism eve...\n",
       "14322  Politics  escape responsibility point blame past govt sa...\n",
       "14759  Politics                 invitation statue worshipper india\n",
       "17967  Politics  political crisis governor lalji tandon direct ...\n",
       "8254   Politics  news paper read todays news paper front page r...\n",
       "11980  Politics  high alert nagaland manipur october naga peace...\n",
       "11751  Politics  get fact sake family son kamleshtiwarilynched ...\n",
       "10817  Politics  gurubari song sharbeswar bhoi odia music samba...\n",
       "10630  Politics                       evidence chidambaram say ram\n",
       "2148   Politics  indian pilot capture pakistan release today wi...\n",
       "9109   Politics  hitler hindu rise rise india nazi loving natio...\n",
       "14668  Politics         arif mohammad khan aap adalat full episode\n",
       "2103   Politics    pakistan release pilot seek limit tension india\n",
       "7223   Politics           tripura man lynch suspicion cattle thief\n",
       "10521  Politics  pakistan lawmaker imran khan party seek asylum...\n",
       "2002   Politics  balakot iaf strike jem terror camp four hour d...\n",
       "16977  Politics  absolutely rabid comment post assault time jou...\n",
       "2037   Politics  iaf pilot one wind commander abhinandan captur...\n",
       "11115  Politics  surgical strike student dropout journalism hig...\n",
       "12859  Politics  problem begin student disregard burden respons...\n",
       "4025   Politics                      tashkent file propaganda film\n",
       "12183  Politics  despite allegation sexual harassment former om...\n",
       "435    Politics  kidnap daughter arvind kejriwal receives anony...\n",
       "2153   Politics  pakistan lodge complaint india eco terrorism f...\n",
       "1606   Politics  nuns protested indian bishop accuse rape say c...\n",
       "5386   Politics  day kashmir shuts mourn zakir musa kill great ...\n",
       "3016   Politics  gujarat dalit teenager tie tree beaten patan p...\n",
       "14990  Politics                                   far right global\n",
       "14609  Politics  blast chemical factory palghar near mumbai sev...\n",
       "20739  Politics       ambedkar islam story must tell publish april\n",
       "20025  Politics                   shut kunal episode tejasvi surya\n",
       "10940  Politics  law student accuse bjp leader chinmayanand rap...\n",
       "9572   Politics       bjp leader book sexually harass daughter law\n",
       "4979   Politics  new patch iaf squadron involve feb dogfight am...\n",
       "15522  Politics  survivor una attack find end hard meet continu...\n",
       "1851   Politics   fatf keep work pakistan curb terrorism financing\n",
       "14347  Politics                    prefer silence silence breaking\n",
       "16316  Politics  dalit man wed procession take police protectio...\n",
       "4899   Politics  father kill oppose eve tease daughter delhi ba...\n",
       "5433   Politics  mumbai doctor kill allegedly casteist slur senior\n",
       "2089   Politics    say war message love peace pakistan india unite\n",
       "11872  Politics                        chris hayes podcast kashmir\n",
       "341    Politics         woman enter hindu temple india set protest\n",
       "15116  Politics  real strike look like million say despotism india\n",
       "12256  Politics  woman tahsildar burnt alive inside office tela...\n",
       "8328   Politics  bjp expels jail lawmaker kuldeep sengar accuse...\n",
       "17381  Politics  pulwama terror attack nia carry raid south kas...\n",
       "14061  Politics  woman anticaaprotest townhall bangalore proud ...\n",
       "2095   Politics               secure abhinandan release omar think"
      ]
     },
     "metadata": {
      "tags": []
     },
     "output_type": "display_data"
    },
    {
     "name": "stdout",
     "output_type": "stream",
     "text": [
      "\n",
      "'[R]eddiquette' predicted as 'Politics' : 60 examples.\n"
     ]
    },
    {
     "data": {
      "text/html": [
       "<div>\n",
       "<style scoped>\n",
       "    .dataframe tbody tr th:only-of-type {\n",
       "        vertical-align: middle;\n",
       "    }\n",
       "\n",
       "    .dataframe tbody tr th {\n",
       "        vertical-align: top;\n",
       "    }\n",
       "\n",
       "    .dataframe thead th {\n",
       "        text-align: right;\n",
       "    }\n",
       "</style>\n",
       "<table border=\"1\" class=\"dataframe\">\n",
       "  <thead>\n",
       "    <tr style=\"text-align: right;\">\n",
       "      <th></th>\n",
       "      <th>flair</th>\n",
       "      <th>title</th>\n",
       "    </tr>\n",
       "  </thead>\n",
       "  <tbody>\n",
       "    <tr>\n",
       "      <th>1615</th>\n",
       "      <td>[R]eddiquette</td>\n",
       "      <td>hyderabad couple force marry hindu activist va...</td>\n",
       "    </tr>\n",
       "    <tr>\n",
       "      <th>2852</th>\n",
       "      <td>[R]eddiquette</td>\n",
       "      <td>watch comedian face flak boast sikh passenger ...</td>\n",
       "    </tr>\n",
       "    <tr>\n",
       "      <th>10298</th>\n",
       "      <td>[R]eddiquette</td>\n",
       "      <td>brutal british rule roast</td>\n",
       "    </tr>\n",
       "    <tr>\n",
       "      <th>2223</th>\n",
       "      <td>[R]eddiquette</td>\n",
       "      <td>balakot airstrikes unanswered question</td>\n",
       "    </tr>\n",
       "    <tr>\n",
       "      <th>4942</th>\n",
       "      <td>[R]eddiquette</td>\n",
       "      <td>uncover humble chaiwallah billion dollar lifes...</td>\n",
       "    </tr>\n",
       "    <tr>\n",
       "      <th>10047</th>\n",
       "      <td>[R]eddiquette</td>\n",
       "      <td>editor india long run defence magazine force a...</td>\n",
       "    </tr>\n",
       "    <tr>\n",
       "      <th>601</th>\n",
       "      <td>[R]eddiquette</td>\n",
       "      <td>police leadership india fail either lead refor...</td>\n",
       "    </tr>\n",
       "    <tr>\n",
       "      <th>10246</th>\n",
       "      <td>[R]eddiquette</td>\n",
       "      <td>vit bhopal fresher party</td>\n",
       "    </tr>\n",
       "    <tr>\n",
       "      <th>8273</th>\n",
       "      <td>[R]eddiquette</td>\n",
       "      <td>idk say</td>\n",
       "    </tr>\n",
       "    <tr>\n",
       "      <th>10415</th>\n",
       "      <td>[R]eddiquette</td>\n",
       "      <td>actor turn politician urmila matondkar quit co...</td>\n",
       "    </tr>\n",
       "    <tr>\n",
       "      <th>2362</th>\n",
       "      <td>[R]eddiquette</td>\n",
       "      <td>balakot ntro claim active phone jem camp need ...</td>\n",
       "    </tr>\n",
       "    <tr>\n",
       "      <th>9348</th>\n",
       "      <td>[R]eddiquette</td>\n",
       "      <td>jail time jail become leader satya pal malik d...</td>\n",
       "    </tr>\n",
       "    <tr>\n",
       "      <th>10429</th>\n",
       "      <td>[R]eddiquette</td>\n",
       "      <td>urban dictionary call india rapistan know feel</td>\n",
       "    </tr>\n",
       "    <tr>\n",
       "      <th>2113</th>\n",
       "      <td>[R]eddiquette</td>\n",
       "      <td>serious medium joke pak exactly india abhinand...</td>\n",
       "    </tr>\n",
       "    <tr>\n",
       "      <th>10004</th>\n",
       "      <td>[R]eddiquette</td>\n",
       "      <td>nothing say</td>\n",
       "    </tr>\n",
       "    <tr>\n",
       "      <th>9891</th>\n",
       "      <td>[R]eddiquette</td>\n",
       "      <td>university texas student india drown oklahoma</td>\n",
       "    </tr>\n",
       "    <tr>\n",
       "      <th>2337</th>\n",
       "      <td>[R]eddiquette</td>\n",
       "      <td>india collectively make video like current soc...</td>\n",
       "    </tr>\n",
       "    <tr>\n",
       "      <th>4256</th>\n",
       "      <td>[R]eddiquette</td>\n",
       "      <td>forget government even value constitutional id...</td>\n",
       "    </tr>\n",
       "    <tr>\n",
       "      <th>10200</th>\n",
       "      <td>[R]eddiquette</td>\n",
       "      <td>punjab amarinder singh order ban serial protes...</td>\n",
       "    </tr>\n",
       "    <tr>\n",
       "      <th>9107</th>\n",
       "      <td>[R]eddiquette</td>\n",
       "      <td>watch truth behind government casualty kashmir...</td>\n",
       "    </tr>\n",
       "    <tr>\n",
       "      <th>9544</th>\n",
       "      <td>[R]eddiquette</td>\n",
       "      <td>pakistani american plan attack new york behalf...</td>\n",
       "    </tr>\n",
       "    <tr>\n",
       "      <th>9490</th>\n",
       "      <td>[R]eddiquette</td>\n",
       "      <td>left right centre ias officer resign coveted job</td>\n",
       "    </tr>\n",
       "    <tr>\n",
       "      <th>7945</th>\n",
       "      <td>[R]eddiquette</td>\n",
       "      <td>sheila dikshit join politics ias husband</td>\n",
       "    </tr>\n",
       "    <tr>\n",
       "      <th>2993</th>\n",
       "      <td>[R]eddiquette</td>\n",
       "      <td>last battle long marcher</td>\n",
       "    </tr>\n",
       "    <tr>\n",
       "      <th>3949</th>\n",
       "      <td>[R]eddiquette</td>\n",
       "      <td>child marriage rampant west bengal malda party...</td>\n",
       "    </tr>\n",
       "    <tr>\n",
       "      <th>9405</th>\n",
       "      <td>[R]eddiquette</td>\n",
       "      <td>war peace die read habit court case judge less...</td>\n",
       "    </tr>\n",
       "    <tr>\n",
       "      <th>4576</th>\n",
       "      <td>[R]eddiquette</td>\n",
       "      <td>remember akbar say meeting priya ramani defama...</td>\n",
       "    </tr>\n",
       "    <tr>\n",
       "      <th>4040</th>\n",
       "      <td>[R]eddiquette</td>\n",
       "      <td>indiaspeaks full modi supporter unlike india e...</td>\n",
       "    </tr>\n",
       "    <tr>\n",
       "      <th>9972</th>\n",
       "      <td>[R]eddiquette</td>\n",
       "      <td>four month oraon man lynch jharkhand bafflemen...</td>\n",
       "    </tr>\n",
       "    <tr>\n",
       "      <th>10208</th>\n",
       "      <td>[R]eddiquette</td>\n",
       "      <td>eminent lawyer former union minister ram jethm...</td>\n",
       "    </tr>\n",
       "    <tr>\n",
       "      <th>1524</th>\n",
       "      <td>[R]eddiquette</td>\n",
       "      <td>ought fellow desh bhakts</td>\n",
       "    </tr>\n",
       "    <tr>\n",
       "      <th>8943</th>\n",
       "      <td>[R]eddiquette</td>\n",
       "      <td>china pakistan alliance possible association</td>\n",
       "    </tr>\n",
       "    <tr>\n",
       "      <th>9523</th>\n",
       "      <td>[R]eddiquette</td>\n",
       "      <td>almost every world leader discuss yoga modi</td>\n",
       "    </tr>\n",
       "    <tr>\n",
       "      <th>8632</th>\n",
       "      <td>[R]eddiquette</td>\n",
       "      <td>inside india secret movement homebrewers</td>\n",
       "    </tr>\n",
       "    <tr>\n",
       "      <th>9406</th>\n",
       "      <td>[R]eddiquette</td>\n",
       "      <td>exclusive india woo foreign firm like apple ca...</td>\n",
       "    </tr>\n",
       "    <tr>\n",
       "      <th>3849</th>\n",
       "      <td>[R]eddiquette</td>\n",
       "      <td>good indian democracy artistes celebs economis...</td>\n",
       "    </tr>\n",
       "    <tr>\n",
       "      <th>8216</th>\n",
       "      <td>[R]eddiquette</td>\n",
       "      <td>mod please make single megathread modi man wil...</td>\n",
       "    </tr>\n",
       "    <tr>\n",
       "      <th>6530</th>\n",
       "      <td>[R]eddiquette</td>\n",
       "      <td>india overtake china populous country next year</td>\n",
       "    </tr>\n",
       "    <tr>\n",
       "      <th>10419</th>\n",
       "      <td>[R]eddiquette</td>\n",
       "      <td>mccarthyism happen</td>\n",
       "    </tr>\n",
       "    <tr>\n",
       "      <th>2403</th>\n",
       "      <td>[R]eddiquette</td>\n",
       "      <td>pakistan try fool sham action jem</td>\n",
       "    </tr>\n",
       "    <tr>\n",
       "      <th>1881</th>\n",
       "      <td>[R]eddiquette</td>\n",
       "      <td>remember maulana abul kalam azad death anniver...</td>\n",
       "    </tr>\n",
       "    <tr>\n",
       "      <th>9628</th>\n",
       "      <td>[R]eddiquette</td>\n",
       "      <td>kerala new governor walk rajiv gandhi cabinet ...</td>\n",
       "    </tr>\n",
       "    <tr>\n",
       "      <th>3586</th>\n",
       "      <td>[R]eddiquette</td>\n",
       "      <td>kozhikode palm civet give priyanka gandhi scar...</td>\n",
       "    </tr>\n",
       "    <tr>\n",
       "      <th>10413</th>\n",
       "      <td>[R]eddiquette</td>\n",
       "      <td>pakistan warns genocide kashmir see talk india</td>\n",
       "    </tr>\n",
       "    <tr>\n",
       "      <th>2730</th>\n",
       "      <td>[R]eddiquette</td>\n",
       "      <td>maneka gandhi tell army act elephant death ass...</td>\n",
       "    </tr>\n",
       "    <tr>\n",
       "      <th>1750</th>\n",
       "      <td>[R]eddiquette</td>\n",
       "      <td>home flipkart drunk</td>\n",
       "    </tr>\n",
       "    <tr>\n",
       "      <th>10151</th>\n",
       "      <td>[R]eddiquette</td>\n",
       "      <td>delhi metro incur loss free ride woman supreme...</td>\n",
       "    </tr>\n",
       "    <tr>\n",
       "      <th>9603</th>\n",
       "      <td>[R]eddiquette</td>\n",
       "      <td>india secretly arm afghanistan northern alliance</td>\n",
       "    </tr>\n",
       "    <tr>\n",
       "      <th>8752</th>\n",
       "      <td>[R]eddiquette</td>\n",
       "      <td>pakistani social medium handle claim build loc...</td>\n",
       "    </tr>\n",
       "    <tr>\n",
       "      <th>2158</th>\n",
       "      <td>[R]eddiquette</td>\n",
       "      <td>pilot down pakistan air force shahaz din mista...</td>\n",
       "    </tr>\n",
       "    <tr>\n",
       "      <th>8062</th>\n",
       "      <td>[R]eddiquette</td>\n",
       "      <td>month old congress lose trust vote karnataka g...</td>\n",
       "    </tr>\n",
       "    <tr>\n",
       "      <th>8661</th>\n",
       "      <td>[R]eddiquette</td>\n",
       "      <td>historic election hold pakistan former tribal ...</td>\n",
       "    </tr>\n",
       "    <tr>\n",
       "      <th>3480</th>\n",
       "      <td>[R]eddiquette</td>\n",
       "      <td>blackmail extortion become synonymous karnatak...</td>\n",
       "    </tr>\n",
       "    <tr>\n",
       "      <th>2156</th>\n",
       "      <td>[R]eddiquette</td>\n",
       "      <td>four security personnel include officer kill e...</td>\n",
       "    </tr>\n",
       "    <tr>\n",
       "      <th>8532</th>\n",
       "      <td>[R]eddiquette</td>\n",
       "      <td>genuine question happen eady pending court case</td>\n",
       "    </tr>\n",
       "    <tr>\n",
       "      <th>9707</th>\n",
       "      <td>[R]eddiquette</td>\n",
       "      <td>pakistan khan say use nuclear weapon first ami...</td>\n",
       "    </tr>\n",
       "    <tr>\n",
       "      <th>4691</th>\n",
       "      <td>[R]eddiquette</td>\n",
       "      <td>many jem terrorist kill balakot airstrike ital...</td>\n",
       "    </tr>\n",
       "    <tr>\n",
       "      <th>8610</th>\n",
       "      <td>[R]eddiquette</td>\n",
       "      <td>happen night journalist mow car driven ias off...</td>\n",
       "    </tr>\n",
       "    <tr>\n",
       "      <th>6416</th>\n",
       "      <td>[R]eddiquette</td>\n",
       "      <td>sub leave lean extremely bias</td>\n",
       "    </tr>\n",
       "    <tr>\n",
       "      <th>9325</th>\n",
       "      <td>[R]eddiquette</td>\n",
       "      <td>elgar parishad case war peace home bombay ask ...</td>\n",
       "    </tr>\n",
       "  </tbody>\n",
       "</table>\n",
       "</div>"
      ],
      "text/plain": [
       "               flair                                              title\n",
       "1615   [R]eddiquette  hyderabad couple force marry hindu activist va...\n",
       "2852   [R]eddiquette  watch comedian face flak boast sikh passenger ...\n",
       "10298  [R]eddiquette                          brutal british rule roast\n",
       "2223   [R]eddiquette             balakot airstrikes unanswered question\n",
       "4942   [R]eddiquette  uncover humble chaiwallah billion dollar lifes...\n",
       "10047  [R]eddiquette  editor india long run defence magazine force a...\n",
       "601    [R]eddiquette  police leadership india fail either lead refor...\n",
       "10246  [R]eddiquette                           vit bhopal fresher party\n",
       "8273   [R]eddiquette                                            idk say\n",
       "10415  [R]eddiquette  actor turn politician urmila matondkar quit co...\n",
       "2362   [R]eddiquette  balakot ntro claim active phone jem camp need ...\n",
       "9348   [R]eddiquette  jail time jail become leader satya pal malik d...\n",
       "10429  [R]eddiquette     urban dictionary call india rapistan know feel\n",
       "2113   [R]eddiquette  serious medium joke pak exactly india abhinand...\n",
       "10004  [R]eddiquette                                        nothing say\n",
       "9891   [R]eddiquette      university texas student india drown oklahoma\n",
       "2337   [R]eddiquette  india collectively make video like current soc...\n",
       "4256   [R]eddiquette  forget government even value constitutional id...\n",
       "10200  [R]eddiquette  punjab amarinder singh order ban serial protes...\n",
       "9107   [R]eddiquette  watch truth behind government casualty kashmir...\n",
       "9544   [R]eddiquette  pakistani american plan attack new york behalf...\n",
       "9490   [R]eddiquette   left right centre ias officer resign coveted job\n",
       "7945   [R]eddiquette           sheila dikshit join politics ias husband\n",
       "2993   [R]eddiquette                           last battle long marcher\n",
       "3949   [R]eddiquette  child marriage rampant west bengal malda party...\n",
       "9405   [R]eddiquette  war peace die read habit court case judge less...\n",
       "4576   [R]eddiquette  remember akbar say meeting priya ramani defama...\n",
       "4040   [R]eddiquette  indiaspeaks full modi supporter unlike india e...\n",
       "9972   [R]eddiquette  four month oraon man lynch jharkhand bafflemen...\n",
       "10208  [R]eddiquette  eminent lawyer former union minister ram jethm...\n",
       "1524   [R]eddiquette                           ought fellow desh bhakts\n",
       "8943   [R]eddiquette       china pakistan alliance possible association\n",
       "9523   [R]eddiquette        almost every world leader discuss yoga modi\n",
       "8632   [R]eddiquette           inside india secret movement homebrewers\n",
       "9406   [R]eddiquette  exclusive india woo foreign firm like apple ca...\n",
       "3849   [R]eddiquette  good indian democracy artistes celebs economis...\n",
       "8216   [R]eddiquette  mod please make single megathread modi man wil...\n",
       "6530   [R]eddiquette    india overtake china populous country next year\n",
       "10419  [R]eddiquette                                 mccarthyism happen\n",
       "2403   [R]eddiquette                  pakistan try fool sham action jem\n",
       "1881   [R]eddiquette  remember maulana abul kalam azad death anniver...\n",
       "9628   [R]eddiquette  kerala new governor walk rajiv gandhi cabinet ...\n",
       "3586   [R]eddiquette  kozhikode palm civet give priyanka gandhi scar...\n",
       "10413  [R]eddiquette     pakistan warns genocide kashmir see talk india\n",
       "2730   [R]eddiquette  maneka gandhi tell army act elephant death ass...\n",
       "1750   [R]eddiquette                                home flipkart drunk\n",
       "10151  [R]eddiquette  delhi metro incur loss free ride woman supreme...\n",
       "9603   [R]eddiquette   india secretly arm afghanistan northern alliance\n",
       "8752   [R]eddiquette  pakistani social medium handle claim build loc...\n",
       "2158   [R]eddiquette  pilot down pakistan air force shahaz din mista...\n",
       "8062   [R]eddiquette  month old congress lose trust vote karnataka g...\n",
       "8661   [R]eddiquette  historic election hold pakistan former tribal ...\n",
       "3480   [R]eddiquette  blackmail extortion become synonymous karnatak...\n",
       "2156   [R]eddiquette  four security personnel include officer kill e...\n",
       "8532   [R]eddiquette    genuine question happen eady pending court case\n",
       "9707   [R]eddiquette  pakistan khan say use nuclear weapon first ami...\n",
       "4691   [R]eddiquette  many jem terrorist kill balakot airstrike ital...\n",
       "8610   [R]eddiquette  happen night journalist mow car driven ias off...\n",
       "6416   [R]eddiquette                      sub leave lean extremely bias\n",
       "9325   [R]eddiquette  elgar parishad case war peace home bombay ask ..."
      ]
     },
     "metadata": {
      "tags": []
     },
     "output_type": "display_data"
    },
    {
     "name": "stdout",
     "output_type": "stream",
     "text": [
      "\n",
      "'[R]eddiquette' predicted as 'AskIndia' : 63 examples.\n"
     ]
    },
    {
     "data": {
      "text/html": [
       "<div>\n",
       "<style scoped>\n",
       "    .dataframe tbody tr th:only-of-type {\n",
       "        vertical-align: middle;\n",
       "    }\n",
       "\n",
       "    .dataframe tbody tr th {\n",
       "        vertical-align: top;\n",
       "    }\n",
       "\n",
       "    .dataframe thead th {\n",
       "        text-align: right;\n",
       "    }\n",
       "</style>\n",
       "<table border=\"1\" class=\"dataframe\">\n",
       "  <thead>\n",
       "    <tr style=\"text-align: right;\">\n",
       "      <th></th>\n",
       "      <th>flair</th>\n",
       "      <th>title</th>\n",
       "    </tr>\n",
       "  </thead>\n",
       "  <tbody>\n",
       "    <tr>\n",
       "      <th>1775</th>\n",
       "      <td>[R]eddiquette</td>\n",
       "      <td>horrible experience select dth channel poor jo...</td>\n",
       "    </tr>\n",
       "    <tr>\n",
       "      <th>2090</th>\n",
       "      <td>[R]eddiquette</td>\n",
       "      <td>advice require sell car year ago buyer transfe...</td>\n",
       "    </tr>\n",
       "    <tr>\n",
       "      <th>800</th>\n",
       "      <td>[R]eddiquette</td>\n",
       "      <td>serious desi quote say use life wise say perha...</td>\n",
       "    </tr>\n",
       "    <tr>\n",
       "      <th>9676</th>\n",
       "      <td>[R]eddiquette</td>\n",
       "      <td>many aware cnc machine use use today buy price...</td>\n",
       "    </tr>\n",
       "    <tr>\n",
       "      <th>9549</th>\n",
       "      <td>[R]eddiquette</td>\n",
       "      <td>nadia comaneci praise school kid perform gymna...</td>\n",
       "    </tr>\n",
       "    <tr>\n",
       "      <th>...</th>\n",
       "      <td>...</td>\n",
       "      <td>...</td>\n",
       "    </tr>\n",
       "    <tr>\n",
       "      <th>3997</th>\n",
       "      <td>[R]eddiquette</td>\n",
       "      <td>telugu actress bhargavi anusha reddy kill road...</td>\n",
       "    </tr>\n",
       "    <tr>\n",
       "      <th>3181</th>\n",
       "      <td>[R]eddiquette</td>\n",
       "      <td>audiophiles inform person please help noob are...</td>\n",
       "    </tr>\n",
       "    <tr>\n",
       "      <th>2400</th>\n",
       "      <td>[R]eddiquette</td>\n",
       "      <td>move delhi temporarily bore lonely ideas fun s...</td>\n",
       "    </tr>\n",
       "    <tr>\n",
       "      <th>9361</th>\n",
       "      <td>[R]eddiquette</td>\n",
       "      <td>redditors suggest gift idea year old niece loo...</td>\n",
       "    </tr>\n",
       "    <tr>\n",
       "      <th>3438</th>\n",
       "      <td>[R]eddiquette</td>\n",
       "      <td>classy living room accessory best quality livi...</td>\n",
       "    </tr>\n",
       "  </tbody>\n",
       "</table>\n",
       "<p>63 rows × 2 columns</p>\n",
       "</div>"
      ],
      "text/plain": [
       "              flair                                              title\n",
       "1775  [R]eddiquette  horrible experience select dth channel poor jo...\n",
       "2090  [R]eddiquette  advice require sell car year ago buyer transfe...\n",
       "800   [R]eddiquette  serious desi quote say use life wise say perha...\n",
       "9676  [R]eddiquette  many aware cnc machine use use today buy price...\n",
       "9549  [R]eddiquette  nadia comaneci praise school kid perform gymna...\n",
       "...             ...                                                ...\n",
       "3997  [R]eddiquette  telugu actress bhargavi anusha reddy kill road...\n",
       "3181  [R]eddiquette  audiophiles inform person please help noob are...\n",
       "2400  [R]eddiquette  move delhi temporarily bore lonely ideas fun s...\n",
       "9361  [R]eddiquette  redditors suggest gift idea year old niece loo...\n",
       "3438  [R]eddiquette  classy living room accessory best quality livi...\n",
       "\n",
       "[63 rows x 2 columns]"
      ]
     },
     "metadata": {
      "tags": []
     },
     "output_type": "display_data"
    },
    {
     "name": "stdout",
     "output_type": "stream",
     "text": [
      "\n",
      "'Science/Technology' predicted as 'AskIndia' : 51 examples.\n"
     ]
    },
    {
     "data": {
      "text/html": [
       "<div>\n",
       "<style scoped>\n",
       "    .dataframe tbody tr th:only-of-type {\n",
       "        vertical-align: middle;\n",
       "    }\n",
       "\n",
       "    .dataframe tbody tr th {\n",
       "        vertical-align: top;\n",
       "    }\n",
       "\n",
       "    .dataframe thead th {\n",
       "        text-align: right;\n",
       "    }\n",
       "</style>\n",
       "<table border=\"1\" class=\"dataframe\">\n",
       "  <thead>\n",
       "    <tr style=\"text-align: right;\">\n",
       "      <th></th>\n",
       "      <th>flair</th>\n",
       "      <th>title</th>\n",
       "    </tr>\n",
       "  </thead>\n",
       "  <tbody>\n",
       "    <tr>\n",
       "      <th>8134</th>\n",
       "      <td>Science/Technology</td>\n",
       "      <td>anyone use api service aadhaar detail</td>\n",
       "    </tr>\n",
       "    <tr>\n",
       "      <th>9878</th>\n",
       "      <td>Science/Technology</td>\n",
       "      <td>happy teacher day quote</td>\n",
       "    </tr>\n",
       "    <tr>\n",
       "      <th>7032</th>\n",
       "      <td>Science/Technology</td>\n",
       "      <td>repost need participant msc research study age...</td>\n",
       "    </tr>\n",
       "    <tr>\n",
       "      <th>5672</th>\n",
       "      <td>Science/Technology</td>\n",
       "      <td>tata institute fundamental research mumbai est...</td>\n",
       "    </tr>\n",
       "    <tr>\n",
       "      <th>2328</th>\n",
       "      <td>Science/Technology</td>\n",
       "      <td>anyone chegg account willing give solution cas...</td>\n",
       "    </tr>\n",
       "    <tr>\n",
       "      <th>12448</th>\n",
       "      <td>Science/Technology</td>\n",
       "      <td>cosmic link zodiac sign zodiac sign compatibility</td>\n",
       "    </tr>\n",
       "    <tr>\n",
       "      <th>11573</th>\n",
       "      <td>Science/Technology</td>\n",
       "      <td>social medium market trend take look believe k...</td>\n",
       "    </tr>\n",
       "    <tr>\n",
       "      <th>10704</th>\n",
       "      <td>Science/Technology</td>\n",
       "      <td>amazon alexa speak hindi</td>\n",
       "    </tr>\n",
       "    <tr>\n",
       "      <th>144</th>\n",
       "      <td>Science/Technology</td>\n",
       "      <td>dmaic dmadv dfss six sigma methodology differe...</td>\n",
       "    </tr>\n",
       "    <tr>\n",
       "      <th>8132</th>\n",
       "      <td>Science/Technology</td>\n",
       "      <td>good goind anand kumar</td>\n",
       "    </tr>\n",
       "    <tr>\n",
       "      <th>777</th>\n",
       "      <td>Science/Technology</td>\n",
       "      <td>place settlement mostly india web map</td>\n",
       "    </tr>\n",
       "    <tr>\n",
       "      <th>16513</th>\n",
       "      <td>Science/Technology</td>\n",
       "      <td>water purifier good health</td>\n",
       "    </tr>\n",
       "    <tr>\n",
       "      <th>7758</th>\n",
       "      <td>Science/Technology</td>\n",
       "      <td>best online note make apps currently use evern...</td>\n",
       "    </tr>\n",
       "    <tr>\n",
       "      <th>6587</th>\n",
       "      <td>Science/Technology</td>\n",
       "      <td>experience buy thomson india</td>\n",
       "    </tr>\n",
       "    <tr>\n",
       "      <th>9411</th>\n",
       "      <td>Science/Technology</td>\n",
       "      <td>know indian entrepreneur freelancer basic work...</td>\n",
       "    </tr>\n",
       "    <tr>\n",
       "      <th>4201</th>\n",
       "      <td>Science/Technology</td>\n",
       "      <td>kool kid train college international kool kid ...</td>\n",
       "    </tr>\n",
       "    <tr>\n",
       "      <th>11543</th>\n",
       "      <td>Science/Technology</td>\n",
       "      <td>anyone india take cod boot camp offer advice</td>\n",
       "    </tr>\n",
       "    <tr>\n",
       "      <th>656</th>\n",
       "      <td>Science/Technology</td>\n",
       "      <td>great indian education system iits</td>\n",
       "    </tr>\n",
       "    <tr>\n",
       "      <th>11704</th>\n",
       "      <td>Science/Technology</td>\n",
       "      <td>case see decrease india</td>\n",
       "    </tr>\n",
       "    <tr>\n",
       "      <th>965</th>\n",
       "      <td>Science/Technology</td>\n",
       "      <td>german company make fly drone like eagle uri m...</td>\n",
       "    </tr>\n",
       "    <tr>\n",
       "      <th>11947</th>\n",
       "      <td>Science/Technology</td>\n",
       "      <td>tcs search hot talent promise pay double salar...</td>\n",
       "    </tr>\n",
       "    <tr>\n",
       "      <th>12143</th>\n",
       "      <td>Science/Technology</td>\n",
       "      <td>write effective abstract useful tip abstract e...</td>\n",
       "    </tr>\n",
       "    <tr>\n",
       "      <th>20202</th>\n",
       "      <td>Science/Technology</td>\n",
       "      <td>dialysis</td>\n",
       "    </tr>\n",
       "    <tr>\n",
       "      <th>17300</th>\n",
       "      <td>Science/Technology</td>\n",
       "      <td>coronavirus delhi see news one person delhi te...</td>\n",
       "    </tr>\n",
       "    <tr>\n",
       "      <th>7421</th>\n",
       "      <td>Science/Technology</td>\n",
       "      <td>thought regard pubg addiction guy pls read ful...</td>\n",
       "    </tr>\n",
       "    <tr>\n",
       "      <th>6719</th>\n",
       "      <td>Science/Technology</td>\n",
       "      <td>fresher experience achievement create resume</td>\n",
       "    </tr>\n",
       "    <tr>\n",
       "      <th>19965</th>\n",
       "      <td>Science/Technology</td>\n",
       "      <td>jio block vpn reddit</td>\n",
       "    </tr>\n",
       "    <tr>\n",
       "      <th>4339</th>\n",
       "      <td>Science/Technology</td>\n",
       "      <td>anyone else feel porn website throttle lately ...</td>\n",
       "    </tr>\n",
       "    <tr>\n",
       "      <th>2965</th>\n",
       "      <td>Science/Technology</td>\n",
       "      <td>earthquake drift limit check</td>\n",
       "    </tr>\n",
       "    <tr>\n",
       "      <th>20468</th>\n",
       "      <td>Science/Technology</td>\n",
       "      <td>give techsupport bedwars</td>\n",
       "    </tr>\n",
       "    <tr>\n",
       "      <th>2905</th>\n",
       "      <td>Science/Technology</td>\n",
       "      <td>spiritual journey</td>\n",
       "    </tr>\n",
       "    <tr>\n",
       "      <th>12063</th>\n",
       "      <td>Science/Technology</td>\n",
       "      <td>please guy show support</td>\n",
       "    </tr>\n",
       "    <tr>\n",
       "      <th>17575</th>\n",
       "      <td>Science/Technology</td>\n",
       "      <td>nuclear non proliferation treaty npt india und...</td>\n",
       "    </tr>\n",
       "    <tr>\n",
       "      <th>4947</th>\n",
       "      <td>Science/Technology</td>\n",
       "      <td>cryptocurrency replace credit card</td>\n",
       "    </tr>\n",
       "    <tr>\n",
       "      <th>11084</th>\n",
       "      <td>Science/Technology</td>\n",
       "      <td>anyone send link plant maintenance reliability...</td>\n",
       "    </tr>\n",
       "    <tr>\n",
       "      <th>6050</th>\n",
       "      <td>Science/Technology</td>\n",
       "      <td>best heart hospital chennai cardiology hospita...</td>\n",
       "    </tr>\n",
       "    <tr>\n",
       "      <th>12720</th>\n",
       "      <td>Science/Technology</td>\n",
       "      <td>difference resume biodata</td>\n",
       "    </tr>\n",
       "    <tr>\n",
       "      <th>3848</th>\n",
       "      <td>Science/Technology</td>\n",
       "      <td>google like indian parent somehow track use in...</td>\n",
       "    </tr>\n",
       "    <tr>\n",
       "      <th>12180</th>\n",
       "      <td>Science/Technology</td>\n",
       "      <td>bought acer predator flipkart get discount pri...</td>\n",
       "    </tr>\n",
       "    <tr>\n",
       "      <th>13496</th>\n",
       "      <td>Science/Technology</td>\n",
       "      <td>help need guy</td>\n",
       "    </tr>\n",
       "    <tr>\n",
       "      <th>10560</th>\n",
       "      <td>Science/Technology</td>\n",
       "      <td>logisticscoursesinernakulam jobsafterdegree bt...</td>\n",
       "    </tr>\n",
       "    <tr>\n",
       "      <th>17332</th>\n",
       "      <td>Science/Technology</td>\n",
       "      <td>anyone see guy videos ton indian follow hell b...</td>\n",
       "    </tr>\n",
       "    <tr>\n",
       "      <th>12869</th>\n",
       "      <td>Science/Technology</td>\n",
       "      <td>mandalorian explain hindi watch disney show</td>\n",
       "    </tr>\n",
       "    <tr>\n",
       "      <th>10439</th>\n",
       "      <td>Science/Technology</td>\n",
       "      <td>great place find internship opportunity year c...</td>\n",
       "    </tr>\n",
       "    <tr>\n",
       "      <th>10397</th>\n",
       "      <td>Science/Technology</td>\n",
       "      <td>give away book anyone need book hesitate ask</td>\n",
       "    </tr>\n",
       "    <tr>\n",
       "      <th>18038</th>\n",
       "      <td>Science/Technology</td>\n",
       "      <td>link hotstar remove disney content hotstar tes...</td>\n",
       "    </tr>\n",
       "    <tr>\n",
       "      <th>18477</th>\n",
       "      <td>Science/Technology</td>\n",
       "      <td>best placement college delhi ncr niet great noida</td>\n",
       "    </tr>\n",
       "    <tr>\n",
       "      <th>20407</th>\n",
       "      <td>Science/Technology</td>\n",
       "      <td>best board school siliguri board school siligu...</td>\n",
       "    </tr>\n",
       "    <tr>\n",
       "      <th>6604</th>\n",
       "      <td>Science/Technology</td>\n",
       "      <td>someone recommend mifi device lock particular ...</td>\n",
       "    </tr>\n",
       "    <tr>\n",
       "      <th>3142</th>\n",
       "      <td>Science/Technology</td>\n",
       "      <td>help internship high school student delhi ncr ...</td>\n",
       "    </tr>\n",
       "    <tr>\n",
       "      <th>13135</th>\n",
       "      <td>Science/Technology</td>\n",
       "      <td>ask kim date health topic</td>\n",
       "    </tr>\n",
       "  </tbody>\n",
       "</table>\n",
       "</div>"
      ],
      "text/plain": [
       "                    flair                                              title\n",
       "8134   Science/Technology              anyone use api service aadhaar detail\n",
       "9878   Science/Technology                            happy teacher day quote\n",
       "7032   Science/Technology  repost need participant msc research study age...\n",
       "5672   Science/Technology  tata institute fundamental research mumbai est...\n",
       "2328   Science/Technology  anyone chegg account willing give solution cas...\n",
       "12448  Science/Technology  cosmic link zodiac sign zodiac sign compatibility\n",
       "11573  Science/Technology  social medium market trend take look believe k...\n",
       "10704  Science/Technology                           amazon alexa speak hindi\n",
       "144    Science/Technology  dmaic dmadv dfss six sigma methodology differe...\n",
       "8132   Science/Technology                             good goind anand kumar\n",
       "777    Science/Technology              place settlement mostly india web map\n",
       "16513  Science/Technology                         water purifier good health\n",
       "7758   Science/Technology  best online note make apps currently use evern...\n",
       "6587   Science/Technology                       experience buy thomson india\n",
       "9411   Science/Technology  know indian entrepreneur freelancer basic work...\n",
       "4201   Science/Technology  kool kid train college international kool kid ...\n",
       "11543  Science/Technology       anyone india take cod boot camp offer advice\n",
       "656    Science/Technology                 great indian education system iits\n",
       "11704  Science/Technology                            case see decrease india\n",
       "965    Science/Technology  german company make fly drone like eagle uri m...\n",
       "11947  Science/Technology  tcs search hot talent promise pay double salar...\n",
       "12143  Science/Technology  write effective abstract useful tip abstract e...\n",
       "20202  Science/Technology                                           dialysis\n",
       "17300  Science/Technology  coronavirus delhi see news one person delhi te...\n",
       "7421   Science/Technology  thought regard pubg addiction guy pls read ful...\n",
       "6719   Science/Technology       fresher experience achievement create resume\n",
       "19965  Science/Technology                               jio block vpn reddit\n",
       "4339   Science/Technology  anyone else feel porn website throttle lately ...\n",
       "2965   Science/Technology                       earthquake drift limit check\n",
       "20468  Science/Technology                           give techsupport bedwars\n",
       "2905   Science/Technology                                  spiritual journey\n",
       "12063  Science/Technology                            please guy show support\n",
       "17575  Science/Technology  nuclear non proliferation treaty npt india und...\n",
       "4947   Science/Technology                 cryptocurrency replace credit card\n",
       "11084  Science/Technology  anyone send link plant maintenance reliability...\n",
       "6050   Science/Technology  best heart hospital chennai cardiology hospita...\n",
       "12720  Science/Technology                          difference resume biodata\n",
       "3848   Science/Technology  google like indian parent somehow track use in...\n",
       "12180  Science/Technology  bought acer predator flipkart get discount pri...\n",
       "13496  Science/Technology                                      help need guy\n",
       "10560  Science/Technology  logisticscoursesinernakulam jobsafterdegree bt...\n",
       "17332  Science/Technology  anyone see guy videos ton indian follow hell b...\n",
       "12869  Science/Technology        mandalorian explain hindi watch disney show\n",
       "10439  Science/Technology  great place find internship opportunity year c...\n",
       "10397  Science/Technology       give away book anyone need book hesitate ask\n",
       "18038  Science/Technology  link hotstar remove disney content hotstar tes...\n",
       "18477  Science/Technology  best placement college delhi ncr niet great noida\n",
       "20407  Science/Technology  best board school siliguri board school siligu...\n",
       "6604   Science/Technology  someone recommend mifi device lock particular ...\n",
       "3142   Science/Technology  help internship high school student delhi ncr ...\n",
       "13135  Science/Technology                          ask kim date health topic"
      ]
     },
     "metadata": {
      "tags": []
     },
     "output_type": "display_data"
    },
    {
     "name": "stdout",
     "output_type": "stream",
     "text": [
      "\n"
     ]
    }
   ],
   "source": [
    "from IPython.display import display\n",
    "for predicted in label_to_id.values():\n",
    "    for actual in label_to_id.values():\n",
    "        if predicted != actual and conf_mat[actual, predicted] >= 50:\n",
    "            print(\"'{}' predicted as '{}' : {} examples.\".format(id_to_label[actual], id_to_label[predicted], conf_mat[actual, predicted]))\n",
    "            display(data.loc[indices_test[(y_test == actual) & (y_pred == predicted)]][['flair', 'title']])\n",
    "            print('')"
   ]
  },
  {
   "cell_type": "markdown",
   "metadata": {
    "colab_type": "text",
    "id": "iEDk-DY-e7kz"
   },
   "source": [
    "It can be see, some of the misclassified flairs are the flairs that directed towards more than one subjects, for example, Bisiness/Finance and Policy/Economy. Similarly, for posts in [R]eddiquette, which are miscalssified as politics and vise-versa are politically oriented, even for a human it's not easy to discern these posts as to which flair category the posts belong to. Also, Science/Technology posts predicted as AskIndia are technology related questions under AskIndia categories."
   ]
  },
  {
   "cell_type": "markdown",
   "metadata": {
    "colab_type": "text",
    "id": "PQoVGj3be7k0"
   },
   "source": [
    "### Chi-square test\n",
    "Chi-Square test to check the consistency with expected correlation"
   ]
  },
  {
   "cell_type": "code",
   "execution_count": 0,
   "metadata": {
    "colab": {},
    "colab_type": "code",
    "id": "TapE4Gq-e7k1",
    "outputId": "24b31e1b-fdac-48ef-c3a7-f68280c00d49"
   },
   "outputs": [
    {
     "name": "stdout",
     "output_type": "stream",
     "text": [
      "# 'AskIndia':\n",
      "  . Top unigrams:\n",
      "       . advice\n",
      "       . anyone\n",
      "  . Top bigrams:\n",
      "       . know fact\n",
      "       . whatsapp group\n",
      "# 'Business/Finance':\n",
      "  . Top unigrams:\n",
      "       . grotal\n",
      "       . business\n",
      "  . Top bigrams:\n",
      "       . know talk\n",
      "       . website survey\n",
      "# 'CAA-NRC':\n",
      "  . Top unigrams:\n",
      "       . caa\n",
      "       . npr\n",
      "  . Top bigrams:\n",
      "       . delhi riot\n",
      "       . yeah yeah\n",
      "# 'Coronavirus':\n",
      "  . Top unigrams:\n",
      "       . covid\n",
      "       . coronavirus\n",
      "  . Top bigrams:\n",
      "       . stay safe\n",
      "       . social distancing\n",
      "# 'Food':\n",
      "  . Top unigrams:\n",
      "       . food\n",
      "       . recipe\n",
      "  . Top bigrams:\n",
      "       . know true\n",
      "       . university project\n",
      "# 'Photography':\n",
      "  . Top unigrams:\n",
      "       . shot\n",
      "       . beach\n",
      "  . Top bigrams:\n",
      "       . best song\n",
      "       . full movie\n",
      "# 'Policy/Economy':\n",
      "  . Top unigrams:\n",
      "       . report\n",
      "       . economy\n",
      "  . Top bigrams:\n",
      "       . india growth\n",
      "       . talk kashmir\n",
      "# 'Politics':\n",
      "  . Top unigrams:\n",
      "       . bjp\n",
      "       . modi\n",
      "  . Top bigrams:\n",
      "       . true number\n",
      "       . full story\n",
      "# 'Science/Technology':\n",
      "  . Top unigrams:\n",
      "       . technology\n",
      "       . isro\n",
      "  . Top bigrams:\n",
      "       . want one\n",
      "       . job interview\n",
      "# 'Sports':\n",
      "  . Top unigrams:\n",
      "       . cricket\n",
      "       . ipl\n",
      "  . Top bigrams:\n",
      "       . world cup\n",
      "       . color india\n",
      "# '[R]eddiquette':\n",
      "  . Top unigrams:\n",
      "       . rape\n",
      "       . song\n",
      "  . Top bigrams:\n",
      "       . try help\n",
      "       . really like\n"
     ]
    }
   ],
   "source": [
    "\n",
    "N = 2\n",
    "for flair, flair_id in sorted(label_to_id.items()):\n",
    "    indices = np.argsort(svc.coef_[flair_id])\n",
    "    feature_names = np.array(tfidf_vectorizer.get_feature_names())[indices]\n",
    "    unigrams = [v for v in reversed(feature_names) if len(v.split(' ')) == 1][:N]\n",
    "    bigrams = [v for v in reversed(feature_names) if len(v.split(' ')) == 2][:N]\n",
    "    print(\"# '{}':\".format(flair))\n",
    "    print(\"  . Top unigrams:\\n       . {}\".format('\\n       . '.join(unigrams)))\n",
    "    print(\"  . Top bigrams:\\n       . {}\".format('\\n       . '.join(bigrams)))\n",
    "\n"
   ]
  },
  {
   "cell_type": "markdown",
   "metadata": {
    "colab_type": "text",
    "id": "YMAbUS7Ee7k3"
   },
   "source": [
    "While some local positioning information can be preserved by extracting n-grams instead of individual words, frequency-based feature destroy most of the inner structure of the document and hence most of the meaning carried by that internal structure. Hence, model trained on such features, often saturate and in most cases do not perform well.\n",
    "\n",
    "In order to address this, the local structure of complete sentences and paragraphs should be taken into account."
   ]
  },
  {
   "cell_type": "markdown",
   "metadata": {
    "colab_type": "text",
    "id": "FhPf-jJue7k4"
   },
   "source": [
    "### Classification Report"
   ]
  },
  {
   "cell_type": "code",
   "execution_count": 0,
   "metadata": {
    "colab": {},
    "colab_type": "code",
    "id": "8VhJa9e3e7k5",
    "outputId": "bd4c5cf3-eaaf-43b7-b9b1-5d531ba927cd"
   },
   "outputs": [
    {
     "name": "stdout",
     "output_type": "stream",
     "text": [
      "                    precision    recall  f1-score   support\n",
      "\n",
      "  Business/Finance       0.68      0.59      0.63       500\n",
      "    Policy/Economy       0.56      0.60      0.58       500\n",
      "     [R]eddiquette       0.48      0.38      0.42       500\n",
      "              Food       0.69      0.71      0.70       402\n",
      "Science/Technology       0.56      0.55      0.55       500\n",
      "            Sports       0.81      0.81      0.81       500\n",
      "       Photography       0.60      0.73      0.66       500\n",
      "          Politics       0.50      0.49      0.49       500\n",
      "          AskIndia       0.46      0.47      0.47       500\n",
      "           CAA-NRC       0.67      0.68      0.67       285\n",
      "       Coronavirus       0.72      0.74      0.73       500\n",
      "\n",
      "          accuracy                           0.61      5187\n",
      "         macro avg       0.61      0.61      0.61      5187\n",
      "      weighted avg       0.61      0.61      0.61      5187\n",
      "\n"
     ]
    }
   ],
   "source": [
    "from sklearn import metrics\n",
    "print(metrics.classification_report(y_test, y_pred, \n",
    "                                    target_names=label_to_id.keys()))"
   ]
  },
  {
   "cell_type": "markdown",
   "metadata": {},
   "source": [
    "After evalutating the misclassification, it can be concluded that, major of the mis-classifications occur when the posts to be classified touch more than one topic. The task of flair classification cannot be associated as a multi-class classification problem, rather it's a multi-label classification problem. "
   ]
  },
  {
   "cell_type": "markdown",
   "metadata": {
    "colab_type": "text",
    "id": "MC5wjZOpe7lM"
   },
   "source": [
    "### Preparing Pipeline"
   ]
  },
  {
   "cell_type": "code",
   "execution_count": 0,
   "metadata": {
    "colab": {},
    "colab_type": "code",
    "id": "3yHnZoe3e7lM",
    "outputId": "6ac42948-cd22-46c3-997a-3d715d31d515"
   },
   "outputs": [
    {
     "data": {
      "text/plain": [
       "0.6020821283979179"
      ]
     },
     "execution_count": 23,
     "metadata": {
      "tags": []
     },
     "output_type": "execute_result"
    }
   ],
   "source": [
    "pipeline = Pipeline([('tfidf', TfidfVectorizer(max_df=0.2,stop_words='english',ngram_range=(1,2),use_idf=True)), ('clf', LinearSVC(class_weight='balanced',max_iter=2000))])\n",
    "pipeline.fit(X_train, y_train)\n",
    "pipeline.score(X_test, y_test)"
   ]
  },
  {
   "cell_type": "code",
   "execution_count": 0,
   "metadata": {
    "colab": {},
    "colab_type": "code",
    "id": "_gx-ViyLe7lQ",
    "outputId": "6f44054e-f825-46b7-c1ea-9a22a98e9817"
   },
   "outputs": [
    {
     "data": {
      "text/plain": [
       "['model_logreg.joblib']"
      ]
     },
     "execution_count": 24,
     "metadata": {
      "tags": []
     },
     "output_type": "execute_result"
    }
   ],
   "source": [
    "dump(pipeline, \"../model/model_svc.joblib\")"
   ]
  },
  {
   "cell_type": "code",
   "execution_count": 0,
   "metadata": {
    "colab": {},
    "colab_type": "code",
    "id": "kxUTj91Ke7lS"
   },
   "outputs": [],
   "source": []
  }
 ],
 "metadata": {
  "colab": {
   "name": "Classification.ipynb",
   "provenance": []
  },
  "kernelspec": {
   "display_name": "Python 3",
   "language": "python",
   "name": "python3"
  },
  "language_info": {
   "codemirror_mode": {
    "name": "ipython",
    "version": 3
   },
   "file_extension": ".py",
   "mimetype": "text/x-python",
   "name": "python",
   "nbconvert_exporter": "python",
   "pygments_lexer": "ipython3",
   "version": "3.7.3"
  }
 },
 "nbformat": 4,
 "nbformat_minor": 1
}
